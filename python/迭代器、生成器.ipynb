{
 "cells": [
  {
   "cell_type": "markdown",
   "id": "ded33d70-42ad-4c07-a960-c0f382923ecb",
   "metadata": {},
   "source": [
    "# 迭代器"
   ]
  },
  {
   "cell_type": "markdown",
   "id": "623bbac0-b36c-4821-b6a2-a448784476b3",
   "metadata": {},
   "source": [
    "在 Python 中一切皆对象，对象的抽象就是类，而对象的集合就是容器。\n",
    "\n",
    "列表（list: [0, 1, 2]），元组（tuple: (0, 1, 2)），字典（dict: {0:0, 1:1, 2:2}），集合（set: set([0, 1, 2])）都是容器\n",
    "\n",
    "所有的容器都是可迭代的（iterable）\n",
    "\n",
    "严谨地说，迭代器（iterator）提供了一个 next 的方法。调用这个方法后，你要么得到这个容器的下一个对象，要么得到一个 StopIteration 的错误（苹果卖完了）\n",
    "\n",
    "可迭代对象，通过 iter() 函数返回一个迭代器，再通过 next() 函数就可以实现遍历"
   ]
  },
  {
   "cell_type": "code",
   "execution_count": 1,
   "id": "e50a8a0b-710c-4496-bd55-bc6944ad2fe3",
   "metadata": {},
   "outputs": [
    {
     "name": "stdout",
     "output_type": "stream",
     "text": [
      "1234 is iterable? False\n",
      "1234 is iterable? True\n",
      "[1, 2, 3, 4] is iterable? True\n",
      "{1, 2, 3, 4} is iterable? True\n",
      "{1: 1, 2: 2, 3: 3, 4: 4} is iterable? True\n",
      "(1, 2, 3, 4) is iterable? True\n"
     ]
    }
   ],
   "source": [
    "def is_iterable(param):\n",
    "    try: \n",
    "        iter(param) # 还有另一种做法，是 isinstance(obj, Iterable)\n",
    "        return True\n",
    "    except TypeError:\n",
    "        return False\n",
    "\n",
    "params = [\n",
    "    1234,\n",
    "    '1234',\n",
    "    [1, 2, 3, 4],\n",
    "    set([1, 2, 3, 4]),\n",
    "    {1:1, 2:2, 3:3, 4:4},\n",
    "    (1, 2, 3, 4)\n",
    "]\n",
    "    \n",
    "for param in params:\n",
    "    print('{} is iterable? {}'.format(param, is_iterable(param)))"
   ]
  },
  {
   "cell_type": "markdown",
   "id": "8956723d-677f-4fb3-a64b-07c850bde059",
   "metadata": {},
   "source": [
    "# 生成器"
   ]
  },
  {
   "cell_type": "code",
   "execution_count": 2,
   "id": "de68f957-6811-4589-b452-0e5ca09c696f",
   "metadata": {},
   "outputs": [
    {
     "name": "stdout",
     "output_type": "stream",
     "text": [
      "initing iterator memory used: 149.546875 MB\n",
      "after iterator initiated memory used: 1686.28125 MB\n",
      "4999999950000000\n",
      "after sum called memory used: 3755.953125 MB\n",
      "CPU times: user 1.7 s, sys: 1.16 s, total: 2.86 s\n",
      "Wall time: 3.31 s\n",
      "initing generator memory used: 30.140625 MB\n",
      "after generator initiated memory used: 30.140625 MB\n",
      "4999999950000000\n",
      "after sum called memory used: 30.34375 MB\n",
      "CPU times: user 2.18 s, sys: 15.9 ms, total: 2.2 s\n",
      "Wall time: 2.21 s\n"
     ]
    }
   ],
   "source": [
    "import os\n",
    "import psutil\n",
    "\n",
    "# 显示当前 python 程序占用的内存大小\n",
    "def show_memory_info(hint):\n",
    "    pid = os.getpid()\n",
    "    p = psutil.Process(pid)\n",
    "    \n",
    "    info = p.memory_full_info()\n",
    "    memory = info.uss / 1024. / 1024\n",
    "    print('{} memory used: {} MB'.format(hint, memory))\n",
    "\n",
    "def test_iterator():\n",
    "    show_memory_info('initing iterator')\n",
    "    list_1 = [i for i in range(100000000)]\n",
    "    show_memory_info('after iterator initiated')\n",
    "    print(sum(list_1))\n",
    "    show_memory_info('after sum called')\n",
    "\n",
    "def test_generator():\n",
    "    show_memory_info('initing generator')\n",
    "    \"\"\"\n",
    "    生成器并不会像迭代器一样占用大量内存，只有在被使用的时候才会调用。而且生成器在初始化的时候，\n",
    "    并不需要运行一次生成操作，相比于 test_iterator() ，test_generator() 函数节省了一次生\n",
    "    成一亿个元素的过程，因此耗时明显比迭代器短。\n",
    "    \"\"\"\n",
    "    list_2 = (i for i in range(100000000)) \n",
    "    show_memory_info('after generator initiated')\n",
    "    print(sum(list_2))\n",
    "    show_memory_info('after sum called')\n",
    "\n",
    "%time test_iterator()\n",
    "%time test_generator()\n",
    "\n"
   ]
  },
  {
   "cell_type": "code",
   "execution_count": 6,
   "id": "42dc74de-59df-402f-aa0e-308b69a8f84f",
   "metadata": {},
   "outputs": [
    {
     "name": "stdout",
     "output_type": "stream",
     "text": [
      "<generator object generator at 0x106ec0f40>\n",
      "<generator object generator at 0x106ec0280>\n",
      "next_1 = 1, next_3 = 1\n",
      "next_1 = 2, next_3 = 8\n",
      "next_1 = 3, next_3 = 27\n",
      "next_1 = 4, next_3 = 64\n",
      "next_1 = 5, next_3 = 125\n",
      "next_1 = 6, next_3 = 216\n",
      "next_1 = 7, next_3 = 343\n",
      "next_1 = 8, next_3 = 512\n",
      "1296 1296\n"
     ]
    }
   ],
   "source": [
    "def generator(k): # 返回了一个生成器\n",
    "    i = 1\n",
    "    while True:\n",
    "        yield i ** k\n",
    "        i += 1\n",
    "\n",
    "gen_1 = generator(1)\n",
    "gen_3 = generator(3)\n",
    "print(gen_1)\n",
    "print(gen_3)\n",
    "\n",
    "def get_sum(n):\n",
    "    sum_1, sum_3 = 0, 0\n",
    "    for i in range(n):\n",
    "        next_1 = next(gen_1)\n",
    "        next_3 = next(gen_3)\n",
    "        print('next_1 = {}, next_3 = {}'.format(next_1, next_3))\n",
    "        sum_1 += next_1\n",
    "        sum_3 += next_3\n",
    "    print(sum_1 * sum_1, sum_3)\n",
    "\n",
    "get_sum(8)"
   ]
  },
  {
   "cell_type": "markdown",
   "id": "7a467378-0c1b-49b7-9bb0-b446654b4c72",
   "metadata": {},
   "source": [
    "迭代器是一个有限集合，生成器则可以成为一个无限集"
   ]
  },
  {
   "cell_type": "code",
   "execution_count": 50,
   "id": "fd64f289-e900-4c3e-a662-fc8b1eef9561",
   "metadata": {},
   "outputs": [
    {
     "name": "stdout",
     "output_type": "stream",
     "text": [
      "True\n",
      "False\n"
     ]
    }
   ],
   "source": [
    "def is_subsequence(a, b):\n",
    "    b = iter(b)\n",
    "    return all(i in b for i in a)\n",
    "\n",
    "print(is_subsequence([1, 3, 5], [1, 2, 3, 4, 5]))\n",
    "print(is_subsequence([1, 4, 3], [1, 2, 3, 4, 5]))"
   ]
  },
  {
   "cell_type": "code",
   "execution_count": 81,
   "id": "638bc3b3-491f-4726-9d81-e7e3343fa46a",
   "metadata": {},
   "outputs": [
    {
     "name": "stdout",
     "output_type": "stream",
     "text": [
      "False\n",
      "False\n"
     ]
    }
   ],
   "source": [
    "def generator1(a, b):\n",
    "    tag = True\n",
    "    for i in a:\n",
    "        while True:\n",
    "            try:\n",
    "                if next(b) == i:\n",
    "                    tag &= True\n",
    "            except:\n",
    "                return False\n",
    "    return tag\n",
    "\n",
    "def is_subsequence1(a, b):\n",
    "    return generator1(a, b)\n",
    "\n",
    "print(is_subsequence1([1, 3, 5], [1, 2, 3, 4, 5]))\n",
    "print(is_subsequence1([1, 4, 3], [1, 2, 3, 4, 5]))"
   ]
  },
  {
   "cell_type": "code",
   "execution_count": 54,
   "id": "23de5ca2-81ee-492e-b7bf-f0b364be0bd1",
   "metadata": {},
   "outputs": [
    {
     "name": "stdout",
     "output_type": "stream",
     "text": [
      "True 1\n",
      "True\n",
      "True\n"
     ]
    }
   ],
   "source": [
    "a = [1, 3, 1, 4, 3, 5]\n",
    "a = iter(a)\n",
    "\n",
    "\n",
    "print(3 in a, next(a))\n",
    "print(4 in a)\n",
    "print(5 in a)\n"
   ]
  },
  {
   "cell_type": "code",
   "execution_count": null,
   "id": "cd6c7aae-5a5e-4106-9f56-0450832e2b4b",
   "metadata": {},
   "outputs": [],
   "source": []
  }
 ],
 "metadata": {
  "kernelspec": {
   "display_name": "Python 3 (ipykernel)",
   "language": "python",
   "name": "python3"
  },
  "language_info": {
   "codemirror_mode": {
    "name": "ipython",
    "version": 3
   },
   "file_extension": ".py",
   "mimetype": "text/x-python",
   "name": "python",
   "nbconvert_exporter": "python",
   "pygments_lexer": "ipython3",
   "version": "3.13.1"
  }
 },
 "nbformat": 4,
 "nbformat_minor": 5
}
