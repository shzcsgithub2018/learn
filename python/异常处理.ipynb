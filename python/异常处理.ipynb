{
 "cells": [
  {
   "cell_type": "markdown",
   "id": "2de38d39-d752-4a6c-ad74-79062d3534ed",
   "metadata": {},
   "source": [
    "# 错误与异常"
   ]
  },
  {
   "cell_type": "markdown",
   "id": "a47429ed-c1f2-48fc-a0a5-4898b7dba060",
   "metadata": {},
   "source": [
    "- 错误\n",
    "  - invalid syntax\n",
    "- 异常\n",
    "  - 类似下边"
   ]
  },
  {
   "cell_type": "code",
   "execution_count": null,
   "id": "15c6aadb-4ae9-4131-a95c-503e07dcbe6f",
   "metadata": {},
   "outputs": [],
   "source": [
    "10 / 0\n",
    "Traceback (most recent call last):\n",
    "  File \"<stdin>\", line 1, in <module>\n",
    "ZeroDivisionError: integer division or modulo by zero\n",
    "\n",
    "order * 2\n",
    "Traceback (most recent call last):\n",
    "  File \"<stdin>\", line 1, in <module>\n",
    "NameError: name 'order' is not defined\n",
    "\n",
    "1 + [1, 2]\n",
    "Traceback (most recent call last):\n",
    "  File \"<stdin>\", line 1, in <module>\n",
    "TypeError: unsupported operand type(s) for +: 'int' and 'list'"
   ]
  },
  {
   "cell_type": "markdown",
   "id": "28b5ccf0-07ca-4a86-b748-e6913f256571",
   "metadata": {},
   "source": [
    "# 如何处理异常"
   ]
  },
  {
   "cell_type": "code",
   "execution_count": 8,
   "id": "a1c54c9b-5412-451e-bc8b-35b0b20a539c",
   "metadata": {},
   "outputs": [
    {
     "name": "stdin",
     "output_type": "stream",
     "text": [
      "please enter two numbers separated by comma:  1,2\n"
     ]
    },
    {
     "name": "stdout",
     "output_type": "stream",
     "text": [
      "Must exec\n",
      "continue\n"
     ]
    }
   ],
   "source": [
    "try:\n",
    "    s = input('please enter two numbers separated by comma: ')\n",
    "    num1 = int(s.split(',')[0].strip())\n",
    "    num2 = int(s.split(',')[1].strip())\n",
    "    ... \n",
    "except (ValueError, IndexError) as err: # 也可以拆成两个except 分别处理\n",
    "    print('Error: {}'.format(err))\n",
    "except Exception as err:\n",
    "    print('Other error: {}'.format(err)) # 匹配任意非系统异常，等价于：在 except 后面省略异常类型\n",
    "finally:\n",
    "    print(\"Must exec\") # 无论如何都要执行\n",
    "\n",
    "print('continue')"
   ]
  },
  {
   "cell_type": "markdown",
   "id": "9988d93a-d4ed-4621-b4bb-39d205e3139b",
   "metadata": {},
   "source": [
    "# 用户自定义异常"
   ]
  },
  {
   "cell_type": "code",
   "execution_count": 17,
   "id": "85bdd6fd-1569-427f-99db-790626049c06",
   "metadata": {},
   "outputs": [
    {
     "ename": "MyInputError",
     "evalue": "1 is invalid input",
     "output_type": "error",
     "traceback": [
      "\u001b[0;31m---------------------------------------------------------------------------\u001b[0m",
      "\u001b[0;31mMyInputError\u001b[0m                              Traceback (most recent call last)",
      "Cell \u001b[0;32mIn[17], line 9\u001b[0m\n\u001b[1;32m      6\u001b[0m         \u001b[38;5;28;01mreturn\u001b[39;00m (\u001b[38;5;124m\"\u001b[39m\u001b[38;5;132;01m{}\u001b[39;00m\u001b[38;5;124m is invalid input\u001b[39m\u001b[38;5;124m\"\u001b[39m\u001b[38;5;241m.\u001b[39mformat(\u001b[38;5;28mrepr\u001b[39m(\u001b[38;5;28mself\u001b[39m\u001b[38;5;241m.\u001b[39mvalue)))\n\u001b[1;32m      8\u001b[0m \u001b[38;5;66;03m# try:\u001b[39;00m\n\u001b[0;32m----> 9\u001b[0m \u001b[38;5;28;01mraise\u001b[39;00m MyInputError(\u001b[38;5;241m1\u001b[39m) \u001b[38;5;66;03m# 抛出MyInputError这个异常\u001b[39;00m\n\u001b[1;32m     10\u001b[0m \u001b[38;5;66;03m# except MyInputError as err:\u001b[39;00m\n\u001b[1;32m     11\u001b[0m \u001b[38;5;66;03m#     print('error: {}'.format(err))\u001b[39;00m\n",
      "\u001b[0;31mMyInputError\u001b[0m: 1 is invalid input"
     ]
    }
   ],
   "source": [
    "class MyInputError(Exception):\n",
    "    \"\"\"Exception raised when there're errors in input\"\"\"\n",
    "    def __init__(self, value): # 自定义异常类型的初始化\n",
    "        self.value = value\n",
    "    def __str__(self): # 自定义异常类型的string表达形式\n",
    "        return (\"{} is invalid input\".format(repr(self.value)))\n",
    "    \n",
    "# try:\n",
    "raise MyInputError(1) # 抛出MyInputError这个异常\n",
    "# except MyInputError as err:\n",
    "#     print('error: {}'.format(err))\n"
   ]
  },
  {
   "cell_type": "markdown",
   "id": "d4ef89b0-b83f-44cd-a15a-afddfc06f95d",
   "metadata": {},
   "source": [
    "# 总结"
   ]
  },
  {
   "cell_type": "markdown",
   "id": "159732c5-c25b-46e8-8c1b-ce7f6112e61f",
   "metadata": {},
   "source": [
    "- 异常，通常是指程序运行的过程中遇到了错误，终止并退出。我们通常使用 try except 语句去处理异常，这样程序就不会被终止，仍能继续执行。\n",
    "\n",
    "- 处理异常时，如果有必须执行的语句，比如文件打开后必须关闭等等，则可以放在 finally  block 中。\n",
    "\n",
    "- 异常处理，通常用在你不确定某段代码能否成功执行，也无法轻易判断的情况下，比如数据库的连接、读取等等。正常的 flow-control 逻辑，不要使用异常处理，直接用条件语句解决就可以了。"
   ]
  }
 ],
 "metadata": {
  "kernelspec": {
   "display_name": "Python 3 (ipykernel)",
   "language": "python",
   "name": "python3"
  },
  "language_info": {
   "codemirror_mode": {
    "name": "ipython",
    "version": 3
   },
   "file_extension": ".py",
   "mimetype": "text/x-python",
   "name": "python",
   "nbconvert_exporter": "python",
   "pygments_lexer": "ipython3",
   "version": "3.13.1"
  }
 },
 "nbformat": 4,
 "nbformat_minor": 5
}
