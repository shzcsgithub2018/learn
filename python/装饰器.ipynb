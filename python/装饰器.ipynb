{
 "cells": [
  {
   "cell_type": "markdown",
   "id": "839f272b-538c-4c8f-8775-f7bd23185eb5",
   "metadata": {},
   "source": [
    "# 函数作为装饰器"
   ]
  },
  {
   "cell_type": "markdown",
   "id": "6fb1397c-b765-4a84-8edd-8735051c56d3",
   "metadata": {},
   "source": [
    "python 中函数是一等公民\n",
    "- 可以作为变量\n",
    "- 可以作为函数入参、返回值"
   ]
  },
  {
   "cell_type": "markdown",
   "id": "f2e51184-e9cf-441a-b283-0c5e26dd892f",
   "metadata": {},
   "source": [
    "下边两份代码等价："
   ]
  },
  {
   "cell_type": "code",
   "execution_count": 2,
   "id": "4a0db9d3-c153-478f-9d15-9ab0845acd91",
   "metadata": {},
   "outputs": [
    {
     "name": "stdout",
     "output_type": "stream",
     "text": [
      "wrapper of decorator\n",
      "hello world\n"
     ]
    }
   ],
   "source": [
    "def my_decorator(func):\n",
    "    def wrapper():\n",
    "        print('wrapper of decorator')\n",
    "        func()\n",
    "    return wrapper\n",
    "\n",
    "def greet():\n",
    "    print('hello world')\n",
    "\n",
    "greet = my_decorator(greet)\n",
    "greet()"
   ]
  },
  {
   "cell_type": "code",
   "execution_count": 1,
   "id": "4e6b51ad-0fb5-49e5-bf73-6c6559c3159b",
   "metadata": {},
   "outputs": [
    {
     "name": "stdout",
     "output_type": "stream",
     "text": [
      "wrapper of decorator\n",
      "hello world\n"
     ]
    }
   ],
   "source": [
    "def my_decorator(func):\n",
    "    def wrapper():\n",
    "        print('wrapper of decorator')\n",
    "        func()\n",
    "    return wrapper\n",
    "\n",
    "@my_decorator # 等价于 greet = my_decorator(greet) 语句\n",
    "def greet():\n",
    "    print('hello world')\n",
    "\n",
    "greet()"
   ]
  },
  {
   "cell_type": "markdown",
   "id": "b3814f22-a1c4-4760-94e1-310063530aba",
   "metadata": {},
   "source": [
    "## 带参数"
   ]
  },
  {
   "cell_type": "code",
   "execution_count": 3,
   "id": "02f9d7df-c6dd-4167-a364-84258ca31bfb",
   "metadata": {},
   "outputs": [
    {
     "name": "stdout",
     "output_type": "stream",
     "text": [
      "wrapper of decorator\n",
      "hello world\n"
     ]
    }
   ],
   "source": [
    "def my_decorator(func):\n",
    "    def wrapper(message):\n",
    "        print('wrapper of decorator')\n",
    "        func(message)\n",
    "    return wrapper\n",
    "\n",
    "\n",
    "@my_decorator\n",
    "def greet(message):\n",
    "    print(message)\n",
    "\n",
    "\n",
    "greet('hello world')"
   ]
  },
  {
   "cell_type": "markdown",
   "id": "83d2ae10-f879-4a11-a85d-700edc28750d",
   "metadata": {},
   "source": [
    "## 带多个参数"
   ]
  },
  {
   "cell_type": "code",
   "execution_count": 13,
   "id": "cded4bd4-8d7d-4a87-b662-51e00d262d0f",
   "metadata": {},
   "outputs": [
    {
     "name": "stdout",
     "output_type": "stream",
     "text": [
      "wrapper of decorator\n",
      "hello world\n",
      "wrapper of decorator\n",
      "hello world hello python\n"
     ]
    }
   ],
   "source": [
    "def my_decorator(func):\n",
    "    def wrapper(*args, **kwargs): # 表示接受任意数量和类型的参数\n",
    "        print('wrapper of decorator')\n",
    "        func(*args, **kwargs)\n",
    "    return wrapper\n",
    "    \n",
    "@my_decorator\n",
    "def greet(message):\n",
    "    print(message)\n",
    "\n",
    "@my_decorator\n",
    "def greet1(m1, m2):\n",
    "    print(m1, m2)\n",
    "\n",
    "\n",
    "greet('hello world')\n",
    "greet1(\"hello world\", \"hello python\")"
   ]
  },
  {
   "cell_type": "markdown",
   "id": "60584630-7121-4833-ada1-a87aebee3590",
   "metadata": {},
   "source": [
    "## 带有自定义参数装饰器"
   ]
  },
  {
   "cell_type": "code",
   "execution_count": 14,
   "id": "91bb2f66-7e9a-45e6-9348-4dbead90de21",
   "metadata": {},
   "outputs": [
    {
     "name": "stdout",
     "output_type": "stream",
     "text": [
      "wrapper of decorator\n",
      "hello world\n",
      "wrapper of decorator\n",
      "hello world\n",
      "wrapper of decorator\n",
      "hello world\n",
      "wrapper of decorator\n",
      "hello world\n"
     ]
    }
   ],
   "source": [
    "def repeat(num):\n",
    "    def my_decorator(func):\n",
    "        def wrapper(*args, **kwargs):\n",
    "            for i in range(num):\n",
    "                print('wrapper of decorator')\n",
    "                func(*args, **kwargs)\n",
    "        return wrapper\n",
    "    return my_decorator\n",
    "\n",
    "\n",
    "@repeat(4)\n",
    "def greet(message):\n",
    "    print(message)\n",
    "\n",
    "greet('hello world')"
   ]
  },
  {
   "cell_type": "markdown",
   "id": "deac353a-c823-4ce6-873b-bbaa63309c63",
   "metadata": {},
   "source": [
    "# 类装饰器"
   ]
  },
  {
   "cell_type": "code",
   "execution_count": 4,
   "id": "fae0ac45-4661-4647-8e81-34aa377e7209",
   "metadata": {},
   "outputs": [
    {
     "name": "stdout",
     "output_type": "stream",
     "text": [
      "num of calls is: 1\n",
      "hello world\n",
      "num of calls is: 2\n",
      "hello world\n"
     ]
    }
   ],
   "source": [
    "class Count:\n",
    "    def __init__(self, func):\n",
    "        self.func = func\n",
    "        self.num_calls = 0\n",
    "\n",
    "    def __call__(self, *args, **kwargs):\n",
    "        self.num_calls += 1\n",
    "        print('num of calls is: {}'.format(self.num_calls))\n",
    "        return self.func(*args, **kwargs)\n",
    "\n",
    "@Count\n",
    "def example():\n",
    "    print(\"hello world\")\n",
    "\n",
    "example()\n",
    "example()"
   ]
  },
  {
   "cell_type": "markdown",
   "id": "951a6a02-195a-47c0-a63b-4e6e85b7b9f8",
   "metadata": {},
   "source": [
    "定义了类 Count，初始化时传入原函数 func()，而__call__()函数表示让变量 num_calls 自增 1，然后打印，并且调用原函数。因此，在我们第一次调用函数 example() 时，num_calls 的值是 1，而在第二次调用时，它的值变成了 2。M"
   ]
  },
  {
   "cell_type": "markdown",
   "id": "948ff7d3-6574-4ee6-a318-d7051d0c6d6d",
   "metadata": {},
   "source": [
    "# 装饰器嵌套"
   ]
  },
  {
   "cell_type": "code",
   "execution_count": 6,
   "id": "4ab6c08d-225f-4d2b-a8fa-e11701b500d4",
   "metadata": {},
   "outputs": [
    {
     "ename": "NameError",
     "evalue": "name 'decorator1' is not defined",
     "output_type": "error",
     "traceback": [
      "\u001b[0;31m---------------------------------------------------------------------------\u001b[0m",
      "\u001b[0;31mNameError\u001b[0m                                 Traceback (most recent call last)",
      "Cell \u001b[0;32mIn[6], line 1\u001b[0m\n\u001b[0;32m----> 1\u001b[0m \u001b[38;5;129m@decorator1\u001b[39m\n\u001b[1;32m      2\u001b[0m \u001b[38;5;129m@decorator2\u001b[39m\n\u001b[1;32m      3\u001b[0m \u001b[38;5;129m@decorator3\u001b[39m\n\u001b[1;32m      4\u001b[0m \u001b[38;5;28;01mdef\u001b[39;00m \u001b[38;5;21mfunc\u001b[39m():\n\u001b[1;32m      5\u001b[0m     \u001b[38;5;241m.\u001b[39m\u001b[38;5;241m.\u001b[39m\u001b[38;5;241m.\u001b[39m\n",
      "\u001b[0;31mNameError\u001b[0m: name 'decorator1' is not defined"
     ]
    }
   ],
   "source": [
    "@decorator1\n",
    "@decorator2\n",
    "@decorator3\n",
    "def func():\n",
    "    ...\n"
   ]
  },
  {
   "cell_type": "markdown",
   "id": "bba9d8fc-87e6-4681-94e6-1210f0ac9e91",
   "metadata": {},
   "source": [
    "等价于"
   ]
  },
  {
   "cell_type": "code",
   "execution_count": 7,
   "id": "032a7c90-3d7f-4baa-9cec-49597568fa35",
   "metadata": {},
   "outputs": [
    {
     "ename": "NameError",
     "evalue": "name 'decorator1' is not defined",
     "output_type": "error",
     "traceback": [
      "\u001b[0;31m---------------------------------------------------------------------------\u001b[0m",
      "\u001b[0;31mNameError\u001b[0m                                 Traceback (most recent call last)",
      "Cell \u001b[0;32mIn[7], line 1\u001b[0m\n\u001b[0;32m----> 1\u001b[0m \u001b[43mdecorator1\u001b[49m(decorator2(decorator3(func)))\n",
      "\u001b[0;31mNameError\u001b[0m: name 'decorator1' is not defined"
     ]
    }
   ],
   "source": [
    "decorator1(decorator2(decorator3(func)))"
   ]
  },
  {
   "cell_type": "code",
   "execution_count": 10,
   "id": "d6628788-7c81-4a87-a916-97047ccea404",
   "metadata": {},
   "outputs": [
    {
     "name": "stdout",
     "output_type": "stream",
     "text": [
      "execute decorator1\n",
      "execute decorator2\n",
      "hello world\n"
     ]
    }
   ],
   "source": [
    "import functools\n",
    "\n",
    "def my_decorator1(func):\n",
    "    @functools.wraps(func)\n",
    "    def wrapper(*args, **kwargs):\n",
    "        print('execute decorator1')\n",
    "        func(*args, **kwargs)\n",
    "    return wrapper\n",
    "\n",
    "\n",
    "def my_decorator2(func):\n",
    "    @functools.wraps(func)\n",
    "    def wrapper(*args, **kwargs):\n",
    "        print('execute decorator2')\n",
    "        func(*args, **kwargs)\n",
    "    return wrapper\n",
    "\n",
    "\n",
    "@my_decorator1\n",
    "@my_decorator2\n",
    "def greet(message):\n",
    "    print(message)\n",
    "\n",
    "\n",
    "greet('hello world')\n"
   ]
  },
  {
   "cell_type": "markdown",
   "id": "df4fd429-718f-4fd9-b7c7-0837dedf1e4a",
   "metadata": {},
   "source": [
    "# 装饰器实践"
   ]
  },
  {
   "cell_type": "markdown",
   "id": "fd215389-38fd-40d3-9be5-52138fe34ecf",
   "metadata": {},
   "source": [
    "- 身份认证\n",
    "- 日志记录\n",
    "- 输入合理性检查\n",
    "- 缓存@lru_cache"
   ]
  },
  {
   "cell_type": "markdown",
   "id": "9cb35020-a430-4cf2-ba01-d4394f9348d2",
   "metadata": {},
   "source": [
    "java的 aop， golang 中好像有好多类似的"
   ]
  }
 ],
 "metadata": {
  "kernelspec": {
   "display_name": "Python 3 (ipykernel)",
   "language": "python",
   "name": "python3"
  },
  "language_info": {
   "codemirror_mode": {
    "name": "ipython",
    "version": 3
   },
   "file_extension": ".py",
   "mimetype": "text/x-python",
   "name": "python",
   "nbconvert_exporter": "python",
   "pygments_lexer": "ipython3",
   "version": "3.13.1"
  }
 },
 "nbformat": 4,
 "nbformat_minor": 5
}
