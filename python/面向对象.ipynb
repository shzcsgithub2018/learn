{
 "cells": [
  {
   "cell_type": "code",
   "execution_count": 1,
   "id": "cfc7924a-feb7-4048-ae08-5739fddc620e",
   "metadata": {},
   "outputs": [
    {
     "name": "stdout",
     "output_type": "stream",
     "text": [
      "init function called\n",
      "Harry Potter\n",
      "J. K. Rowling\n",
      "77\n",
      "10\n"
     ]
    },
    {
     "ename": "AttributeError",
     "evalue": "'Document' object has no attribute '__context'",
     "output_type": "error",
     "traceback": [
      "\u001b[0;31m---------------------------------------------------------------------------\u001b[0m",
      "\u001b[0;31mAttributeError\u001b[0m                            Traceback (most recent call last)",
      "Cell \u001b[0;32mIn[1], line 24\u001b[0m\n\u001b[1;32m     20\u001b[0m harry_potter_book\u001b[38;5;241m.\u001b[39mintercept_context(\u001b[38;5;241m10\u001b[39m)\n\u001b[1;32m     22\u001b[0m \u001b[38;5;28mprint\u001b[39m(harry_potter_book\u001b[38;5;241m.\u001b[39mget_context_length())\n\u001b[0;32m---> 24\u001b[0m \u001b[38;5;28mprint\u001b[39m(\u001b[43mharry_potter_book\u001b[49m\u001b[38;5;241;43m.\u001b[39;49m\u001b[43m__context\u001b[49m)\n",
      "\u001b[0;31mAttributeError\u001b[0m: 'Document' object has no attribute '__context'"
     ]
    }
   ],
   "source": [
    "class Document():\n",
    "    def __init__(self, title, author, context):\n",
    "        print('init function called')\n",
    "        self.title = title\n",
    "        self.author = author\n",
    "        self.__context = context # __开头的属性是私有属性\n",
    "\n",
    "    def get_context_length(self):\n",
    "        return len(self.__context)\n",
    "\n",
    "    def intercept_context(self, length):\n",
    "        self.__context = self.__context[:length]\n",
    "\n",
    "harry_potter_book = Document('Harry Potter', 'J. K. Rowling', '... Forever Do not believe any thing is capable of thinking independently ...')\n",
    "\n",
    "print(harry_potter_book.title)\n",
    "print(harry_potter_book.author)\n",
    "print(harry_potter_book.get_context_length())\n",
    "\n",
    "harry_potter_book.intercept_context(10)\n",
    "\n",
    "print(harry_potter_book.get_context_length())\n",
    "\n",
    "print(harry_potter_book.__context)"
   ]
  },
  {
   "cell_type": "markdown",
   "id": "af7aac93-361e-42fb-8205-b0284fb6617d",
   "metadata": {},
   "source": [
    "# 类常量、类函数"
   ]
  },
  {
   "cell_type": "code",
   "execution_count": 6,
   "id": "e55cade4-4346-413d-b71e-5ab3564e13f2",
   "metadata": {},
   "outputs": [
    {
     "name": "stdout",
     "output_type": "stream",
     "text": [
      "init function called\n",
      "7\n",
      "Welcome! The context for this book is indeed nothing.\n"
     ]
    }
   ],
   "source": [
    "class Document():\n",
    "    \n",
    "    WELCOME_STR = 'Welcome! The context for this book is {}.' # 类常量\n",
    "    \n",
    "    def __init__(self, title, author, context):\n",
    "        print('init function called')\n",
    "        self.title = title\n",
    "        self.author = author\n",
    "        self.__context = context\n",
    "    \n",
    "    # 类函数\n",
    "    @classmethod\n",
    "    def create_empty_book(cls, title, author):\n",
    "        return cls(title=title, author=author, context='nothing')\n",
    "    \n",
    "    # 成员函数\n",
    "    def get_context_length(self):\n",
    "        return len(self.__context)\n",
    "    \n",
    "    # 静态函数\n",
    "    @staticmethod\n",
    "    def get_welcome(context):\n",
    "        return Document.WELCOME_STR.format(context)\n",
    "\n",
    "\n",
    "empty_book = Document.create_empty_book('What Every Man Thinks About Apart from Sex', 'Professor Sheridan Simove')\n",
    "\n",
    "\n",
    "print(empty_book.get_context_length())\n",
    "print(Document.get_welcome('indeed nothing'))"
   ]
  },
  {
   "cell_type": "markdown",
   "id": "5f35f14b-b131-4626-8d6b-7608afbfb614",
   "metadata": {},
   "source": [
    "# 继承"
   ]
  },
  {
   "cell_type": "code",
   "execution_count": 7,
   "id": "25bb8aad-1f7d-4aaf-82a4-ff53dfeee7ac",
   "metadata": {},
   "outputs": [
    {
     "name": "stdout",
     "output_type": "stream",
     "text": [
      "Document class init called\n",
      "parent class init called\n",
      "Video class init called\n",
      "parent class init called\n",
      "document\n",
      "video\n",
      "Harry Potter(Book)\n",
      "Harry Potter(Movie)\n",
      "77\n",
      "120\n"
     ]
    }
   ],
   "source": [
    "class Entity():\n",
    "    def __init__(self, object_type):\n",
    "        print('parent class init called')\n",
    "        self.object_type = object_type\n",
    "    \n",
    "    def get_context_length(self):\n",
    "        raise Exception('get_context_length not implemented')\n",
    "    \n",
    "    def print_title(self):\n",
    "        print(self.title)\n",
    "\n",
    "class Document(Entity):\n",
    "    def __init__(self, title, author, context):\n",
    "        print('Document class init called')\n",
    "        Entity.__init__(self, 'document')\n",
    "        self.title = title\n",
    "        self.author = author\n",
    "        self.__context = context\n",
    "    \n",
    "    def get_context_length(self):\n",
    "        return len(self.__context)\n",
    "    \n",
    "class Video(Entity):\n",
    "    def __init__(self, title, author, video_length):\n",
    "        print('Video class init called')\n",
    "        Entity.__init__(self, 'video')\n",
    "        self.title = title\n",
    "        self.author = author\n",
    "        self.__video_length = video_length\n",
    "    \n",
    "    def get_context_length(self):\n",
    "        return self.__video_length\n",
    "\n",
    "harry_potter_book = Document('Harry Potter(Book)', 'J. K. Rowling', '... Forever Do not believe any thing is capable of thinking independently ...')\n",
    "harry_potter_movie = Video('Harry Potter(Movie)', 'J. K. Rowling', 120)\n",
    "\n",
    "print(harry_potter_book.object_type)\n",
    "print(harry_potter_movie.object_type)\n",
    "\n",
    "harry_potter_book.print_title()\n",
    "harry_potter_movie.print_title()\n",
    "\n",
    "print(harry_potter_book.get_context_length())\n",
    "print(harry_potter_movie.get_context_length())"
   ]
  },
  {
   "cell_type": "markdown",
   "id": "32401a59-c1d6-4b7f-aa88-4d3d4460479e",
   "metadata": {},
   "source": [
    "# 抽象函数、抽象类"
   ]
  },
  {
   "cell_type": "code",
   "execution_count": 8,
   "id": "c5c14885-9670-41e7-8c1e-a915c1fb0838",
   "metadata": {},
   "outputs": [
    {
     "name": "stdout",
     "output_type": "stream",
     "text": [
      "Harry Potter\n"
     ]
    },
    {
     "ename": "TypeError",
     "evalue": "Can't instantiate abstract class Entity without an implementation for abstract methods 'get_title', 'set_title'",
     "output_type": "error",
     "traceback": [
      "\u001b[0;31m---------------------------------------------------------------------------\u001b[0m",
      "\u001b[0;31mTypeError\u001b[0m                                 Traceback (most recent call last)",
      "Cell \u001b[0;32mIn[8], line 23\u001b[0m\n\u001b[1;32m     20\u001b[0m document\u001b[38;5;241m.\u001b[39mset_title(\u001b[38;5;124m'\u001b[39m\u001b[38;5;124mHarry Potter\u001b[39m\u001b[38;5;124m'\u001b[39m)\n\u001b[1;32m     21\u001b[0m \u001b[38;5;28mprint\u001b[39m(document\u001b[38;5;241m.\u001b[39mget_title())\n\u001b[0;32m---> 23\u001b[0m entity \u001b[38;5;241m=\u001b[39m \u001b[43mEntity\u001b[49m\u001b[43m(\u001b[49m\u001b[43m)\u001b[49m\n",
      "\u001b[0;31mTypeError\u001b[0m: Can't instantiate abstract class Entity without an implementation for abstract methods 'get_title', 'set_title'"
     ]
    }
   ],
   "source": [
    "from abc import ABCMeta, abstractmethod\n",
    "\n",
    "class Entity(metaclass=ABCMeta):\n",
    "    @abstractmethod\n",
    "    def get_title(self):\n",
    "        pass\n",
    "\n",
    "    @abstractmethod\n",
    "    def set_title(self, title):\n",
    "        pass\n",
    "\n",
    "class Document(Entity):\n",
    "    def get_title(self):\n",
    "        return self.title\n",
    "    \n",
    "    def set_title(self, title):\n",
    "        self.title = title\n",
    "\n",
    "document = Document()\n",
    "document.set_title('Harry Potter')\n",
    "print(document.get_title())\n",
    "\n",
    "entity = Entity()\n"
   ]
  },
  {
   "cell_type": "markdown",
   "id": "bfd8ed98-2af2-4f04-9e14-9222099da060",
   "metadata": {},
   "source": [
    "# 实战搜索引擎"
   ]
  },
  {
   "cell_type": "code",
   "execution_count": 12,
   "id": "64018393-d67c-48c2-80c2-db53487ddf69",
   "metadata": {},
   "outputs": [],
   "source": [
    "class SearchEngineBase(object):\n",
    "    def __init__(self):\n",
    "        pass\n",
    "\n",
    "    def add_corpus(self, file_path):\n",
    "        with open(file_path, 'r') as fin:\n",
    "            text = fin.read()\n",
    "        self.process_corpus(file_path, text)\n",
    "\n",
    "    def process_corpus(self, id, text):\n",
    "        raise Exception('process_corpus not implemented.')\n",
    "\n",
    "    def search(self, query):\n",
    "        raise Exception('search not implemented.')\n",
    "\n",
    "def main(search_engine):\n",
    "    for file_path in ['1.txt', '2.txt', '3.txt', '4.txt', '5.txt']:\n",
    "        search_engine.add_corpus(file_path)\n",
    "\n",
    "    while True:\n",
    "        query = input()\n",
    "        results = search_engine.search(query)\n",
    "        print('found {} result(s):'.format(len(results)))\n",
    "        for result in results:\n",
    "            print(result)"
   ]
  },
  {
   "cell_type": "markdown",
   "id": "9152f677-b497-491b-956e-65fab05af23b",
   "metadata": {},
   "source": [
    "## SimpleEngine"
   ]
  },
  {
   "cell_type": "code",
   "execution_count": 11,
   "id": "38b0a3ca-954c-4118-b114-a67e049df73b",
   "metadata": {},
   "outputs": [
    {
     "name": "stdin",
     "output_type": "stream",
     "text": [
      " simple\n"
     ]
    },
    {
     "name": "stdout",
     "output_type": "stream",
     "text": [
      "found 0 result(s):\n"
     ]
    },
    {
     "name": "stdin",
     "output_type": "stream",
     "text": [
      " little\n"
     ]
    },
    {
     "name": "stdout",
     "output_type": "stream",
     "text": [
      "found 2 result(s):\n",
      "1.txt\n",
      "2.txt\n"
     ]
    },
    {
     "name": "stdin",
     "output_type": "stream",
     "text": [
      " \n"
     ]
    },
    {
     "name": "stdout",
     "output_type": "stream",
     "text": [
      "found 5 result(s):\n",
      "1.txt\n",
      "2.txt\n",
      "3.txt\n",
      "4.txt\n",
      "5.txt\n"
     ]
    },
    {
     "name": "stdin",
     "output_type": "stream",
     "text": [
      " \n"
     ]
    },
    {
     "name": "stdout",
     "output_type": "stream",
     "text": [
      "found 5 result(s):\n",
      "1.txt\n",
      "2.txt\n",
      "3.txt\n",
      "4.txt\n",
      "5.txt\n"
     ]
    },
    {
     "ename": "KeyboardInterrupt",
     "evalue": "Interrupted by user",
     "output_type": "error",
     "traceback": [
      "\u001b[0;31m---------------------------------------------------------------------------\u001b[0m",
      "\u001b[0;31mKeyboardInterrupt\u001b[0m                         Traceback (most recent call last)",
      "Cell \u001b[0;32mIn[11], line 17\u001b[0m\n\u001b[1;32m     14\u001b[0m         \u001b[38;5;28;01mreturn\u001b[39;00m results\n\u001b[1;32m     16\u001b[0m search_engine \u001b[38;5;241m=\u001b[39m SimpleEngine()\n\u001b[0;32m---> 17\u001b[0m \u001b[43mmain\u001b[49m\u001b[43m(\u001b[49m\u001b[43msearch_engine\u001b[49m\u001b[43m)\u001b[49m\n",
      "Cell \u001b[0;32mIn[10], line 21\u001b[0m, in \u001b[0;36mmain\u001b[0;34m(search_engine)\u001b[0m\n\u001b[1;32m     18\u001b[0m     search_engine\u001b[38;5;241m.\u001b[39madd_corpus(file_path)\n\u001b[1;32m     20\u001b[0m \u001b[38;5;28;01mwhile\u001b[39;00m \u001b[38;5;28;01mTrue\u001b[39;00m:\n\u001b[0;32m---> 21\u001b[0m     query \u001b[38;5;241m=\u001b[39m \u001b[38;5;28;43minput\u001b[39;49m\u001b[43m(\u001b[49m\u001b[43m)\u001b[49m\n\u001b[1;32m     22\u001b[0m     results \u001b[38;5;241m=\u001b[39m search_engine\u001b[38;5;241m.\u001b[39msearch(query)\n\u001b[1;32m     23\u001b[0m     \u001b[38;5;28mprint\u001b[39m(\u001b[38;5;124m'\u001b[39m\u001b[38;5;124mfound \u001b[39m\u001b[38;5;132;01m{}\u001b[39;00m\u001b[38;5;124m result(s):\u001b[39m\u001b[38;5;124m'\u001b[39m\u001b[38;5;241m.\u001b[39mformat(\u001b[38;5;28mlen\u001b[39m(results)))\n",
      "File \u001b[0;32m/opt/homebrew/Cellar/jupyterlab/4.3.4_1/libexec/lib/python3.13/site-packages/ipykernel/kernelbase.py:1282\u001b[0m, in \u001b[0;36mKernel.raw_input\u001b[0;34m(self, prompt)\u001b[0m\n\u001b[1;32m   1280\u001b[0m     msg \u001b[38;5;241m=\u001b[39m \u001b[38;5;124m\"\u001b[39m\u001b[38;5;124mraw_input was called, but this frontend does not support input requests.\u001b[39m\u001b[38;5;124m\"\u001b[39m\n\u001b[1;32m   1281\u001b[0m     \u001b[38;5;28;01mraise\u001b[39;00m StdinNotImplementedError(msg)\n\u001b[0;32m-> 1282\u001b[0m \u001b[38;5;28;01mreturn\u001b[39;00m \u001b[38;5;28;43mself\u001b[39;49m\u001b[38;5;241;43m.\u001b[39;49m\u001b[43m_input_request\u001b[49m\u001b[43m(\u001b[49m\n\u001b[1;32m   1283\u001b[0m \u001b[43m    \u001b[49m\u001b[38;5;28;43mstr\u001b[39;49m\u001b[43m(\u001b[49m\u001b[43mprompt\u001b[49m\u001b[43m)\u001b[49m\u001b[43m,\u001b[49m\n\u001b[1;32m   1284\u001b[0m \u001b[43m    \u001b[49m\u001b[38;5;28;43mself\u001b[39;49m\u001b[38;5;241;43m.\u001b[39;49m\u001b[43m_parent_ident\u001b[49m\u001b[43m[\u001b[49m\u001b[38;5;124;43m\"\u001b[39;49m\u001b[38;5;124;43mshell\u001b[39;49m\u001b[38;5;124;43m\"\u001b[39;49m\u001b[43m]\u001b[49m\u001b[43m,\u001b[49m\n\u001b[1;32m   1285\u001b[0m \u001b[43m    \u001b[49m\u001b[38;5;28;43mself\u001b[39;49m\u001b[38;5;241;43m.\u001b[39;49m\u001b[43mget_parent\u001b[49m\u001b[43m(\u001b[49m\u001b[38;5;124;43m\"\u001b[39;49m\u001b[38;5;124;43mshell\u001b[39;49m\u001b[38;5;124;43m\"\u001b[39;49m\u001b[43m)\u001b[49m\u001b[43m,\u001b[49m\n\u001b[1;32m   1286\u001b[0m \u001b[43m    \u001b[49m\u001b[43mpassword\u001b[49m\u001b[38;5;241;43m=\u001b[39;49m\u001b[38;5;28;43;01mFalse\u001b[39;49;00m\u001b[43m,\u001b[49m\n\u001b[1;32m   1287\u001b[0m \u001b[43m\u001b[49m\u001b[43m)\u001b[49m\n",
      "File \u001b[0;32m/opt/homebrew/Cellar/jupyterlab/4.3.4_1/libexec/lib/python3.13/site-packages/ipykernel/kernelbase.py:1325\u001b[0m, in \u001b[0;36mKernel._input_request\u001b[0;34m(self, prompt, ident, parent, password)\u001b[0m\n\u001b[1;32m   1322\u001b[0m \u001b[38;5;28;01mexcept\u001b[39;00m \u001b[38;5;167;01mKeyboardInterrupt\u001b[39;00m:\n\u001b[1;32m   1323\u001b[0m     \u001b[38;5;66;03m# re-raise KeyboardInterrupt, to truncate traceback\u001b[39;00m\n\u001b[1;32m   1324\u001b[0m     msg \u001b[38;5;241m=\u001b[39m \u001b[38;5;124m\"\u001b[39m\u001b[38;5;124mInterrupted by user\u001b[39m\u001b[38;5;124m\"\u001b[39m\n\u001b[0;32m-> 1325\u001b[0m     \u001b[38;5;28;01mraise\u001b[39;00m \u001b[38;5;167;01mKeyboardInterrupt\u001b[39;00m(msg) \u001b[38;5;28;01mfrom\u001b[39;00m \u001b[38;5;28;01mNone\u001b[39;00m\n\u001b[1;32m   1326\u001b[0m \u001b[38;5;28;01mexcept\u001b[39;00m \u001b[38;5;167;01mException\u001b[39;00m:\n\u001b[1;32m   1327\u001b[0m     \u001b[38;5;28mself\u001b[39m\u001b[38;5;241m.\u001b[39mlog\u001b[38;5;241m.\u001b[39mwarning(\u001b[38;5;124m\"\u001b[39m\u001b[38;5;124mInvalid Message:\u001b[39m\u001b[38;5;124m\"\u001b[39m, exc_info\u001b[38;5;241m=\u001b[39m\u001b[38;5;28;01mTrue\u001b[39;00m)\n",
      "\u001b[0;31mKeyboardInterrupt\u001b[0m: Interrupted by user"
     ]
    }
   ],
   "source": [
    "class SimpleEngine(SearchEngineBase):\n",
    "    def __init__(self):\n",
    "        super(SimpleEngine, self).__init__()\n",
    "        self.__id_to_texts = {}\n",
    "\n",
    "    def process_corpus(self, id, text):\n",
    "        self.__id_to_texts[id] = text\n",
    "\n",
    "    def search(self, query):\n",
    "        results = []\n",
    "        for id, text in self.__id_to_texts.items():\n",
    "            if query in text:\n",
    "                results.append(id)\n",
    "        return results\n",
    "\n",
    "search_engine = SimpleEngine()\n",
    "main(search_engine)"
   ]
  },
  {
   "cell_type": "markdown",
   "id": "bef814c2-1493-474c-8f7e-89816ba20486",
   "metadata": {},
   "source": [
    "## Bag of words Model 词袋模型"
   ]
  },
  {
   "cell_type": "code",
   "execution_count": 13,
   "id": "41abbbe3-f93c-46c6-860f-a08177a23a5a",
   "metadata": {},
   "outputs": [
    {
     "name": "stdin",
     "output_type": "stream",
     "text": [
      " little\n"
     ]
    },
    {
     "name": "stdout",
     "output_type": "stream",
     "text": [
      "found 2 result(s):\n",
      "1.txt\n",
      "2.txt\n"
     ]
    },
    {
     "ename": "KeyboardInterrupt",
     "evalue": "Interrupted by user",
     "output_type": "error",
     "traceback": [
      "\u001b[0;31m---------------------------------------------------------------------------\u001b[0m",
      "\u001b[0;31mKeyboardInterrupt\u001b[0m                         Traceback (most recent call last)",
      "Cell \u001b[0;32mIn[13], line 40\u001b[0m\n\u001b[1;32m     37\u001b[0m         \u001b[38;5;28;01mreturn\u001b[39;00m \u001b[38;5;28mset\u001b[39m(word_list)\n\u001b[1;32m     39\u001b[0m search_engine \u001b[38;5;241m=\u001b[39m BOWEngine()\n\u001b[0;32m---> 40\u001b[0m \u001b[43mmain\u001b[49m\u001b[43m(\u001b[49m\u001b[43msearch_engine\u001b[49m\u001b[43m)\u001b[49m\n",
      "Cell \u001b[0;32mIn[12], line 21\u001b[0m, in \u001b[0;36mmain\u001b[0;34m(search_engine)\u001b[0m\n\u001b[1;32m     18\u001b[0m     search_engine\u001b[38;5;241m.\u001b[39madd_corpus(file_path)\n\u001b[1;32m     20\u001b[0m \u001b[38;5;28;01mwhile\u001b[39;00m \u001b[38;5;28;01mTrue\u001b[39;00m:\n\u001b[0;32m---> 21\u001b[0m     query \u001b[38;5;241m=\u001b[39m \u001b[38;5;28;43minput\u001b[39;49m\u001b[43m(\u001b[49m\u001b[43m)\u001b[49m\n\u001b[1;32m     22\u001b[0m     results \u001b[38;5;241m=\u001b[39m search_engine\u001b[38;5;241m.\u001b[39msearch(query)\n\u001b[1;32m     23\u001b[0m     \u001b[38;5;28mprint\u001b[39m(\u001b[38;5;124m'\u001b[39m\u001b[38;5;124mfound \u001b[39m\u001b[38;5;132;01m{}\u001b[39;00m\u001b[38;5;124m result(s):\u001b[39m\u001b[38;5;124m'\u001b[39m\u001b[38;5;241m.\u001b[39mformat(\u001b[38;5;28mlen\u001b[39m(results)))\n",
      "File \u001b[0;32m/opt/homebrew/Cellar/jupyterlab/4.3.4_1/libexec/lib/python3.13/site-packages/ipykernel/kernelbase.py:1282\u001b[0m, in \u001b[0;36mKernel.raw_input\u001b[0;34m(self, prompt)\u001b[0m\n\u001b[1;32m   1280\u001b[0m     msg \u001b[38;5;241m=\u001b[39m \u001b[38;5;124m\"\u001b[39m\u001b[38;5;124mraw_input was called, but this frontend does not support input requests.\u001b[39m\u001b[38;5;124m\"\u001b[39m\n\u001b[1;32m   1281\u001b[0m     \u001b[38;5;28;01mraise\u001b[39;00m StdinNotImplementedError(msg)\n\u001b[0;32m-> 1282\u001b[0m \u001b[38;5;28;01mreturn\u001b[39;00m \u001b[38;5;28;43mself\u001b[39;49m\u001b[38;5;241;43m.\u001b[39;49m\u001b[43m_input_request\u001b[49m\u001b[43m(\u001b[49m\n\u001b[1;32m   1283\u001b[0m \u001b[43m    \u001b[49m\u001b[38;5;28;43mstr\u001b[39;49m\u001b[43m(\u001b[49m\u001b[43mprompt\u001b[49m\u001b[43m)\u001b[49m\u001b[43m,\u001b[49m\n\u001b[1;32m   1284\u001b[0m \u001b[43m    \u001b[49m\u001b[38;5;28;43mself\u001b[39;49m\u001b[38;5;241;43m.\u001b[39;49m\u001b[43m_parent_ident\u001b[49m\u001b[43m[\u001b[49m\u001b[38;5;124;43m\"\u001b[39;49m\u001b[38;5;124;43mshell\u001b[39;49m\u001b[38;5;124;43m\"\u001b[39;49m\u001b[43m]\u001b[49m\u001b[43m,\u001b[49m\n\u001b[1;32m   1285\u001b[0m \u001b[43m    \u001b[49m\u001b[38;5;28;43mself\u001b[39;49m\u001b[38;5;241;43m.\u001b[39;49m\u001b[43mget_parent\u001b[49m\u001b[43m(\u001b[49m\u001b[38;5;124;43m\"\u001b[39;49m\u001b[38;5;124;43mshell\u001b[39;49m\u001b[38;5;124;43m\"\u001b[39;49m\u001b[43m)\u001b[49m\u001b[43m,\u001b[49m\n\u001b[1;32m   1286\u001b[0m \u001b[43m    \u001b[49m\u001b[43mpassword\u001b[49m\u001b[38;5;241;43m=\u001b[39;49m\u001b[38;5;28;43;01mFalse\u001b[39;49;00m\u001b[43m,\u001b[49m\n\u001b[1;32m   1287\u001b[0m \u001b[43m\u001b[49m\u001b[43m)\u001b[49m\n",
      "File \u001b[0;32m/opt/homebrew/Cellar/jupyterlab/4.3.4_1/libexec/lib/python3.13/site-packages/ipykernel/kernelbase.py:1325\u001b[0m, in \u001b[0;36mKernel._input_request\u001b[0;34m(self, prompt, ident, parent, password)\u001b[0m\n\u001b[1;32m   1322\u001b[0m \u001b[38;5;28;01mexcept\u001b[39;00m \u001b[38;5;167;01mKeyboardInterrupt\u001b[39;00m:\n\u001b[1;32m   1323\u001b[0m     \u001b[38;5;66;03m# re-raise KeyboardInterrupt, to truncate traceback\u001b[39;00m\n\u001b[1;32m   1324\u001b[0m     msg \u001b[38;5;241m=\u001b[39m \u001b[38;5;124m\"\u001b[39m\u001b[38;5;124mInterrupted by user\u001b[39m\u001b[38;5;124m\"\u001b[39m\n\u001b[0;32m-> 1325\u001b[0m     \u001b[38;5;28;01mraise\u001b[39;00m \u001b[38;5;167;01mKeyboardInterrupt\u001b[39;00m(msg) \u001b[38;5;28;01mfrom\u001b[39;00m \u001b[38;5;28;01mNone\u001b[39;00m\n\u001b[1;32m   1326\u001b[0m \u001b[38;5;28;01mexcept\u001b[39;00m \u001b[38;5;167;01mException\u001b[39;00m:\n\u001b[1;32m   1327\u001b[0m     \u001b[38;5;28mself\u001b[39m\u001b[38;5;241m.\u001b[39mlog\u001b[38;5;241m.\u001b[39mwarning(\u001b[38;5;124m\"\u001b[39m\u001b[38;5;124mInvalid Message:\u001b[39m\u001b[38;5;124m\"\u001b[39m, exc_info\u001b[38;5;241m=\u001b[39m\u001b[38;5;28;01mTrue\u001b[39;00m)\n",
      "\u001b[0;31mKeyboardInterrupt\u001b[0m: Interrupted by user"
     ]
    }
   ],
   "source": [
    "import re\n",
    "\n",
    "class BOWEngine(SearchEngineBase):\n",
    "    def __init__(self):\n",
    "        super(BOWEngine, self).__init__()\n",
    "        self.__id_to_words = {}\n",
    "\n",
    "    def process_corpus(self, id, text):\n",
    "        self.__id_to_words[id] = self.parse_text_to_words(text)\n",
    "\n",
    "    def search(self, query):\n",
    "        query_words = self.parse_text_to_words(query)\n",
    "        results = []\n",
    "        for id, words in self.__id_to_words.items():\n",
    "            if self.query_match(query_words, words):\n",
    "                results.append(id)\n",
    "        return results\n",
    "    \n",
    "    @staticmethod\n",
    "    def query_match(query_words, words):\n",
    "        for query_word in query_words:\n",
    "            if query_word not in words:\n",
    "                return False\n",
    "        return True\n",
    "\n",
    "    @staticmethod\n",
    "    def parse_text_to_words(text):\n",
    "        # 使用正则表达式去除标点符号和换行符\n",
    "        text = re.sub(r'[^\\w ]', ' ', text)\n",
    "        # 转为小写\n",
    "        text = text.lower()\n",
    "        # 生成所有单词的列表\n",
    "        word_list = text.split(' ')\n",
    "        # 去除空白单词\n",
    "        word_list = filter(None, word_list)\n",
    "        # 返回单词的 set\n",
    "        return set(word_list)\n",
    "\n",
    "search_engine = BOWEngine()\n",
    "main(search_engine)\n"
   ]
  },
  {
   "cell_type": "markdown",
   "id": "ea7ff464-648c-4134-9ad3-16f13124cf18",
   "metadata": {},
   "source": [
    "##  Inverted Index"
   ]
  },
  {
   "cell_type": "code",
   "execution_count": 14,
   "id": "0d34fbcd-38a3-4e29-87c3-b15f50c352d4",
   "metadata": {},
   "outputs": [
    {
     "name": "stdin",
     "output_type": "stream",
     "text": [
      " hello\n"
     ]
    },
    {
     "name": "stdout",
     "output_type": "stream",
     "text": [
      "found 0 result(s):\n"
     ]
    },
    {
     "name": "stdin",
     "output_type": "stream",
     "text": [
      " little\n"
     ]
    },
    {
     "name": "stdout",
     "output_type": "stream",
     "text": [
      "found 2 result(s):\n",
      "1.txt\n",
      "2.txt\n"
     ]
    },
    {
     "ename": "KeyboardInterrupt",
     "evalue": "Interrupted by user",
     "output_type": "error",
     "traceback": [
      "\u001b[0;31m---------------------------------------------------------------------------\u001b[0m",
      "\u001b[0;31mKeyboardInterrupt\u001b[0m                         Traceback (most recent call last)",
      "Cell \u001b[0;32mIn[14], line 67\u001b[0m\n\u001b[1;32m     64\u001b[0m         \u001b[38;5;28;01mreturn\u001b[39;00m \u001b[38;5;28mset\u001b[39m(word_list)\n\u001b[1;32m     66\u001b[0m search_engine \u001b[38;5;241m=\u001b[39m BOWInvertedIndexEngine()\n\u001b[0;32m---> 67\u001b[0m \u001b[43mmain\u001b[49m\u001b[43m(\u001b[49m\u001b[43msearch_engine\u001b[49m\u001b[43m)\u001b[49m\n",
      "Cell \u001b[0;32mIn[12], line 21\u001b[0m, in \u001b[0;36mmain\u001b[0;34m(search_engine)\u001b[0m\n\u001b[1;32m     18\u001b[0m     search_engine\u001b[38;5;241m.\u001b[39madd_corpus(file_path)\n\u001b[1;32m     20\u001b[0m \u001b[38;5;28;01mwhile\u001b[39;00m \u001b[38;5;28;01mTrue\u001b[39;00m:\n\u001b[0;32m---> 21\u001b[0m     query \u001b[38;5;241m=\u001b[39m \u001b[38;5;28;43minput\u001b[39;49m\u001b[43m(\u001b[49m\u001b[43m)\u001b[49m\n\u001b[1;32m     22\u001b[0m     results \u001b[38;5;241m=\u001b[39m search_engine\u001b[38;5;241m.\u001b[39msearch(query)\n\u001b[1;32m     23\u001b[0m     \u001b[38;5;28mprint\u001b[39m(\u001b[38;5;124m'\u001b[39m\u001b[38;5;124mfound \u001b[39m\u001b[38;5;132;01m{}\u001b[39;00m\u001b[38;5;124m result(s):\u001b[39m\u001b[38;5;124m'\u001b[39m\u001b[38;5;241m.\u001b[39mformat(\u001b[38;5;28mlen\u001b[39m(results)))\n",
      "File \u001b[0;32m/opt/homebrew/Cellar/jupyterlab/4.3.4_1/libexec/lib/python3.13/site-packages/ipykernel/kernelbase.py:1282\u001b[0m, in \u001b[0;36mKernel.raw_input\u001b[0;34m(self, prompt)\u001b[0m\n\u001b[1;32m   1280\u001b[0m     msg \u001b[38;5;241m=\u001b[39m \u001b[38;5;124m\"\u001b[39m\u001b[38;5;124mraw_input was called, but this frontend does not support input requests.\u001b[39m\u001b[38;5;124m\"\u001b[39m\n\u001b[1;32m   1281\u001b[0m     \u001b[38;5;28;01mraise\u001b[39;00m StdinNotImplementedError(msg)\n\u001b[0;32m-> 1282\u001b[0m \u001b[38;5;28;01mreturn\u001b[39;00m \u001b[38;5;28;43mself\u001b[39;49m\u001b[38;5;241;43m.\u001b[39;49m\u001b[43m_input_request\u001b[49m\u001b[43m(\u001b[49m\n\u001b[1;32m   1283\u001b[0m \u001b[43m    \u001b[49m\u001b[38;5;28;43mstr\u001b[39;49m\u001b[43m(\u001b[49m\u001b[43mprompt\u001b[49m\u001b[43m)\u001b[49m\u001b[43m,\u001b[49m\n\u001b[1;32m   1284\u001b[0m \u001b[43m    \u001b[49m\u001b[38;5;28;43mself\u001b[39;49m\u001b[38;5;241;43m.\u001b[39;49m\u001b[43m_parent_ident\u001b[49m\u001b[43m[\u001b[49m\u001b[38;5;124;43m\"\u001b[39;49m\u001b[38;5;124;43mshell\u001b[39;49m\u001b[38;5;124;43m\"\u001b[39;49m\u001b[43m]\u001b[49m\u001b[43m,\u001b[49m\n\u001b[1;32m   1285\u001b[0m \u001b[43m    \u001b[49m\u001b[38;5;28;43mself\u001b[39;49m\u001b[38;5;241;43m.\u001b[39;49m\u001b[43mget_parent\u001b[49m\u001b[43m(\u001b[49m\u001b[38;5;124;43m\"\u001b[39;49m\u001b[38;5;124;43mshell\u001b[39;49m\u001b[38;5;124;43m\"\u001b[39;49m\u001b[43m)\u001b[49m\u001b[43m,\u001b[49m\n\u001b[1;32m   1286\u001b[0m \u001b[43m    \u001b[49m\u001b[43mpassword\u001b[49m\u001b[38;5;241;43m=\u001b[39;49m\u001b[38;5;28;43;01mFalse\u001b[39;49;00m\u001b[43m,\u001b[49m\n\u001b[1;32m   1287\u001b[0m \u001b[43m\u001b[49m\u001b[43m)\u001b[49m\n",
      "File \u001b[0;32m/opt/homebrew/Cellar/jupyterlab/4.3.4_1/libexec/lib/python3.13/site-packages/ipykernel/kernelbase.py:1325\u001b[0m, in \u001b[0;36mKernel._input_request\u001b[0;34m(self, prompt, ident, parent, password)\u001b[0m\n\u001b[1;32m   1322\u001b[0m \u001b[38;5;28;01mexcept\u001b[39;00m \u001b[38;5;167;01mKeyboardInterrupt\u001b[39;00m:\n\u001b[1;32m   1323\u001b[0m     \u001b[38;5;66;03m# re-raise KeyboardInterrupt, to truncate traceback\u001b[39;00m\n\u001b[1;32m   1324\u001b[0m     msg \u001b[38;5;241m=\u001b[39m \u001b[38;5;124m\"\u001b[39m\u001b[38;5;124mInterrupted by user\u001b[39m\u001b[38;5;124m\"\u001b[39m\n\u001b[0;32m-> 1325\u001b[0m     \u001b[38;5;28;01mraise\u001b[39;00m \u001b[38;5;167;01mKeyboardInterrupt\u001b[39;00m(msg) \u001b[38;5;28;01mfrom\u001b[39;00m \u001b[38;5;28;01mNone\u001b[39;00m\n\u001b[1;32m   1326\u001b[0m \u001b[38;5;28;01mexcept\u001b[39;00m \u001b[38;5;167;01mException\u001b[39;00m:\n\u001b[1;32m   1327\u001b[0m     \u001b[38;5;28mself\u001b[39m\u001b[38;5;241m.\u001b[39mlog\u001b[38;5;241m.\u001b[39mwarning(\u001b[38;5;124m\"\u001b[39m\u001b[38;5;124mInvalid Message:\u001b[39m\u001b[38;5;124m\"\u001b[39m, exc_info\u001b[38;5;241m=\u001b[39m\u001b[38;5;28;01mTrue\u001b[39;00m)\n",
      "\u001b[0;31mKeyboardInterrupt\u001b[0m: Interrupted by user"
     ]
    }
   ],
   "source": [
    "import re\n",
    "\n",
    "class BOWInvertedIndexEngine(SearchEngineBase):\n",
    "    def __init__(self):\n",
    "        super(BOWInvertedIndexEngine, self).__init__()\n",
    "        self.inverted_index = {}\n",
    "\n",
    "    def process_corpus(self, id, text):\n",
    "        words = self.parse_text_to_words(text)\n",
    "        for word in words:\n",
    "            if word not in self.inverted_index:\n",
    "                self.inverted_index[word] = []\n",
    "            self.inverted_index[word].append(id)\n",
    "\n",
    "    def search(self, query):\n",
    "        query_words = list(self.parse_text_to_words(query))\n",
    "        query_words_index = list()\n",
    "        for query_word in query_words:\n",
    "            query_words_index.append(0)\n",
    "        \n",
    "        # 如果某一个查询单词的倒序索引为空，我们就立刻返回\n",
    "        for query_word in query_words:\n",
    "            if query_word not in self.inverted_index:\n",
    "                return []\n",
    "        \n",
    "        result = []\n",
    "        while True:\n",
    "            \n",
    "            # 首先，获得当前状态下所有倒序索引的 index\n",
    "            current_ids = []\n",
    "            \n",
    "            for idx, query_word in enumerate(query_words):\n",
    "                current_index = query_words_index[idx]\n",
    "                current_inverted_list = self.inverted_index[query_word]\n",
    "                \n",
    "                # 已经遍历到了某一个倒序索引的末尾，结束 search\n",
    "                if current_index >= len(current_inverted_list):\n",
    "                    return result\n",
    "\n",
    "                current_ids.append(current_inverted_list[current_index])\n",
    "\n",
    "            # 然后，如果 current_ids 的所有元素都一样，那么表明这个单词在这个元素对应的文档中都出现了\n",
    "            if all(x == current_ids[0] for x in current_ids):\n",
    "                result.append(current_ids[0])\n",
    "                query_words_index = [x + 1 for x in query_words_index]\n",
    "                continue\n",
    "            \n",
    "            # 如果不是，我们就把最小的元素加一\n",
    "            min_val = min(current_ids)\n",
    "            min_val_pos = current_ids.index(min_val)\n",
    "            query_words_index[min_val_pos] += 1\n",
    "\n",
    "    @staticmethod\n",
    "    def parse_text_to_words(text):\n",
    "        # 使用正则表达式去除标点符号和换行符\n",
    "        text = re.sub(r'[^\\w ]', ' ', text)\n",
    "        # 转为小写\n",
    "        text = text.lower()\n",
    "        # 生成所有单词的列表\n",
    "        word_list = text.split(' ')\n",
    "        # 去除空白单词\n",
    "        word_list = filter(None, word_list)\n",
    "        # 返回单词的 set\n",
    "        return set(word_list)\n",
    "\n",
    "search_engine = BOWInvertedIndexEngine()\n",
    "main(search_engine)\n"
   ]
  },
  {
   "cell_type": "code",
   "execution_count": null,
   "id": "11a82a20-47be-456c-8b54-7ea79135f60c",
   "metadata": {},
   "outputs": [],
   "source": []
  }
 ],
 "metadata": {
  "kernelspec": {
   "display_name": "Python 3 (ipykernel)",
   "language": "python",
   "name": "python3"
  },
  "language_info": {
   "codemirror_mode": {
    "name": "ipython",
    "version": 3
   },
   "file_extension": ".py",
   "mimetype": "text/x-python",
   "name": "python",
   "nbconvert_exporter": "python",
   "pygments_lexer": "ipython3",
   "version": "3.13.1"
  }
 },
 "nbformat": 4,
 "nbformat_minor": 5
}
