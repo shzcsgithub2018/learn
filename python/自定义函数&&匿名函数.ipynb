{
 "cells": [
  {
   "cell_type": "markdown",
   "id": "c93f30b8-1a81-441d-a213-21a2e72ff47e",
   "metadata": {},
   "source": [
    "# 自定义函数"
   ]
  },
  {
   "cell_type": "markdown",
   "id": "465cc7fc-fb7f-471d-bdb1-4fc41eaa7a7b",
   "metadata": {},
   "source": [
    "Python 中函数的参数可以接受任意的数据类型，使用起来需要注意，必要时请在函数开头加入数据类型的检查；\n",
    "\n",
    "和其他语言不同，Python 中函数的参数可以设定默认值；\n",
    "\n",
    "嵌套函数的使用，能保证数据的隐私性，提高程序运行效率；\n",
    "\n",
    "合理地使用闭包，则可以简化程序的复杂度，提高可读性。"
   ]
  },
  {
   "cell_type": "markdown",
   "id": "751bbb74-44b8-48ab-ab51-355bb1708fa6",
   "metadata": {},
   "source": [
    "# 匿名函数"
   ]
  },
  {
   "cell_type": "raw",
   "id": "0478a62c-0594-4339-9cf9-e44b60454c5b",
   "metadata": {},
   "source": [
    "lambda argument1, argument2,... argumentN : expression"
   ]
  },
  {
   "cell_type": "code",
   "execution_count": 4,
   "id": "40551c6f-6714-41ad-aef4-f446d5680653",
   "metadata": {},
   "outputs": [
    {
     "name": "stdout",
     "output_type": "stream",
     "text": [
      "9\n",
      "9\n"
     ]
    }
   ],
   "source": [
    "square = lambda x: x**2\n",
    "print(square(3))\n",
    "\n",
    "def square(x):\n",
    "    return x**2\n",
    "print(square(3))"
   ]
  },
  {
   "cell_type": "markdown",
   "id": "4af45b4e-67a8-4759-a3ff-e29520ea90ed",
   "metadata": {},
   "source": [
    "## 匿名函数与常规函数区别"
   ]
  },
  {
   "cell_type": "markdown",
   "id": "84ceaf24-d7e5-4006-9762-ba1e63563f57",
   "metadata": {},
   "source": [
    "1. lambda 是一个表达式（expression），并不是一个语句（statement）。"
   ]
  },
  {
   "cell_type": "code",
   "execution_count": 6,
   "id": "bb55e920-828c-413f-9cee-3354f124fb03",
   "metadata": {},
   "outputs": [
    {
     "data": {
      "text/plain": [
       "[0, 1, 4, 9, 16, 25, 36, 49, 64, 81]"
      ]
     },
     "execution_count": 6,
     "metadata": {},
     "output_type": "execute_result"
    }
   ],
   "source": [
    "[(lambda x: x*x)(x) for x in range(10)]"
   ]
  },
  {
   "cell_type": "code",
   "execution_count": 7,
   "id": "a4339222-ec11-4750-a8c3-92d5240b370d",
   "metadata": {},
   "outputs": [
    {
     "name": "stdout",
     "output_type": "stream",
     "text": [
      "[(2, -1), (3, 0), (9, 10), (1, 20)]\n"
     ]
    }
   ],
   "source": [
    "l = [(1, 20), (3, 0), (9, 10), (2, -1)]\n",
    "l.sort(key=lambda x: x[1]) # 按列表中元组的第二个元素排序\n",
    "print(l)"
   ]
  },
  {
   "cell_type": "markdown",
   "id": "b7ef8a17-d502-4030-acec-057f9213301f",
   "metadata": {},
   "source": [
    "2. lambda 的主体是只有一行的简单表达式，并不能扩展成一个多行的代码块。"
   ]
  },
  {
   "cell_type": "markdown",
   "id": "c0d6bf1a-0a95-45c8-8a40-8b0cda1915f8",
   "metadata": {},
   "source": [
    "## 为什么使用匿名函数"
   ]
  },
  {
   "cell_type": "code",
   "execution_count": null,
   "id": "926027e9-16f4-43a7-a660-98c19c63329a",
   "metadata": {},
   "outputs": [],
   "source": [
    "减少代码的重复性；\n",
    "\n",
    "模块化代码。"
   ]
  },
  {
   "cell_type": "markdown",
   "id": "145e62f2-d12c-4c15-8fbd-37f2be62f19b",
   "metadata": {},
   "source": [
    "# 函数式编程"
   ]
  },
  {
   "cell_type": "markdown",
   "id": "6c721e4e-2ff2-4f5d-9123-e24f8bb245d3",
   "metadata": {},
   "source": [
    "函数式编程的优点，主要在于其纯函数和不可变的特性使程序更加健壮，易于调试（debug）和测试；\n",
    "缺点主要在于限制多，难写"
   ]
  },
  {
   "cell_type": "markdown",
   "id": "09c728fb-3340-4f8f-b1cb-80cc6fdcc120",
   "metadata": {},
   "source": [
    "Python 主要提供了这么几个函数：map()、filter() 和 reduce()，通常结合匿名函数 lambda 一起使用。"
   ]
  },
  {
   "cell_type": "markdown",
   "id": "21aa5074-18fa-4351-aa88-a6e90229e6b9",
   "metadata": {},
   "source": [
    "## map"
   ]
  },
  {
   "cell_type": "code",
   "execution_count": 18,
   "id": "3170d1f2-ca65-45a5-89f4-9f0fc934db6d",
   "metadata": {},
   "outputs": [
    {
     "name": "stdout",
     "output_type": "stream",
     "text": [
      "[2, 4, 6, 8, 10]\n"
     ]
    }
   ],
   "source": [
    "l = [1, 2, 3, 4, 5]\n",
    "new_list = map(lambda x: x * 2, l) # [2， 4， 6， 8， 10]\n",
    "print(list(new_list))"
   ]
  },
  {
   "cell_type": "markdown",
   "id": "98d53048-1b04-4f67-8aa4-48d95d37741b",
   "metadata": {},
   "source": [
    "## filter"
   ]
  },
  {
   "cell_type": "code",
   "execution_count": 19,
   "id": "17185905-906c-4a7f-a451-6916d60c6d62",
   "metadata": {},
   "outputs": [
    {
     "name": "stdout",
     "output_type": "stream",
     "text": [
      "[2, 4]\n"
     ]
    }
   ],
   "source": [
    "l = [1, 2, 3, 4, 5]\n",
    "new_list = filter(lambda x: x % 2 == 0, l) # [2, 4]\n",
    "print(list(new_list))"
   ]
  },
  {
   "cell_type": "markdown",
   "id": "7bb3a991-7b5e-4c03-aedb-17ca0f18ebb1",
   "metadata": {},
   "source": [
    "## reduce"
   ]
  },
  {
   "cell_type": "code",
   "execution_count": 21,
   "id": "28c46aaa-3541-44c6-a58f-e518a6a44a60",
   "metadata": {},
   "outputs": [
    {
     "name": "stdout",
     "output_type": "stream",
     "text": [
      "120\n"
     ]
    }
   ],
   "source": [
    "from functools import reduce\n",
    "l = [1, 2, 3, 4, 5]\n",
    "product = reduce(lambda x, y: x * y, l) # 1*2*3*4*5 = 120\n",
    "print(product)"
   ]
  },
  {
   "cell_type": "markdown",
   "id": "190b56ef-169e-46e6-b9e3-2bfc19efef6c",
   "metadata": {},
   "source": [
    "# 思考题"
   ]
  },
  {
   "cell_type": "code",
   "execution_count": 28,
   "id": "a920ccb0-df15-4312-b869-081f3badf9fe",
   "metadata": {},
   "outputs": [
    {
     "name": "stdout",
     "output_type": "stream",
     "text": [
      "{'ben': 30, 'mike': 10, 'lucy': 2}\n"
     ]
    }
   ],
   "source": [
    "d = {'mike': 10, 'lucy': 2, 'ben': 30}\n",
    "sorted_dict = dict(sorted(d.items(), key=lambda x: x[1], reverse=True))\n",
    "print(sorted_dict)"
   ]
  },
  {
   "cell_type": "code",
   "execution_count": null,
   "id": "709599e3-8cbe-48c1-b144-d6815630e155",
   "metadata": {},
   "outputs": [],
   "source": []
  }
 ],
 "metadata": {
  "kernelspec": {
   "display_name": "Python 3 (ipykernel)",
   "language": "python",
   "name": "python3"
  },
  "language_info": {
   "codemirror_mode": {
    "name": "ipython",
    "version": 3
   },
   "file_extension": ".py",
   "mimetype": "text/x-python",
   "name": "python",
   "nbconvert_exporter": "python",
   "pygments_lexer": "ipython3",
   "version": "3.13.1"
  }
 },
 "nbformat": 4,
 "nbformat_minor": 5
}
