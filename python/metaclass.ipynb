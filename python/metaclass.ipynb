{
 "cells": [
  {
   "cell_type": "code",
   "execution_count": 9,
   "id": "e2a0afb6-0fbf-4436-996c-44a41036d885",
   "metadata": {},
   "outputs": [
    {
     "name": "stdout",
     "output_type": "stream",
     "text": [
      "Monster(name='Cave spider', hp=[2, 6], ac=16, attacks=['BITE', 'HURT'])\n",
      "!Monster\n",
      "ac: 16\n",
      "attacks:\n",
      "- BITE\n",
      "- HURT\n",
      "hp:\n",
      "- 3\n",
      "- 6\n",
      "name: Cave lizard\n",
      "\n"
     ]
    }
   ],
   "source": [
    "import yaml\n",
    "\n",
    "class Monster(yaml.YAMLObject):\n",
    "  yaml_tag = u'!Monster'\n",
    "  def __init__(self, name, hp, ac, attacks):\n",
    "    self.name = name\n",
    "    self.hp = hp\n",
    "    self.ac = ac\n",
    "    self.attacks = attacks\n",
    "  def __repr__(self): # 特殊方法、返回对象字符串表示\n",
    "    return \"%s(name=%r, hp=%r, ac=%r, attacks=%r)\" % (\n",
    "       self.__class__.__name__, self.name, self.hp, self.ac,      \n",
    "       self.attacks)\n",
    "obj = yaml.load(\"\"\"\n",
    "--- !Monster\n",
    "name: Cave spider\n",
    "hp: [2,6]    # 2d6\n",
    "ac: 16\n",
    "attacks: [BITE, HURT]\n",
    "\"\"\",  Loader=yaml.FullLoader)\n",
    "print(obj)\n",
    "\n",
    "\n",
    "print(yaml.dump(Monster(name='Cave lizard', hp=[3,6], ac=16, attacks=['BITE','HURT'])))"
   ]
  },
  {
   "cell_type": "markdown",
   "id": "63f81ba7-5f6c-4020-90da-a3bc0df1a2ec",
   "metadata": {},
   "source": [
    "## 所有的 Python 的用户定义类，都是 type 这个类的实例"
   ]
  },
  {
   "cell_type": "code",
   "execution_count": 12,
   "id": "29c2e6a6-32ef-455a-9651-ece42a82724a",
   "metadata": {},
   "outputs": [
    {
     "name": "stdout",
     "output_type": "stream",
     "text": [
      "<class '__main__.MyClass'>\n",
      "<class 'type'>\n"
     ]
    }
   ],
   "source": [
    "class MyClass:\n",
    "  pass\n",
    "\n",
    "instance = MyClass()\n",
    "\n",
    "print(type(instance))\n",
    "print(type(MyClass))"
   ]
  },
  {
   "cell_type": "markdown",
   "id": "0842f3a3-cf19-45e8-83ae-4fa071e9d1b8",
   "metadata": {},
   "source": [
    "## 用户自定义类，只不过是type类的__call__运算符重载"
   ]
  },
  {
   "cell_type": "code",
   "execution_count": 13,
   "id": "0c734ed8-8028-421d-98c0-fb0f2963d6bd",
   "metadata": {},
   "outputs": [
    {
     "name": "stdout",
     "output_type": "stream",
     "text": [
      "<class '__main__.MyClass'> <__main__.MyClass object at 0x1069fd010> 1\n",
      "<class '__main__.MyClass'> <__main__.MyClass object at 0x1063dbe00> 1\n"
     ]
    }
   ],
   "source": [
    "class MyClass:\n",
    "  data = 1\n",
    "  \n",
    "instance = MyClass()\n",
    "print(MyClass, instance, instance.data)\n",
    "\n",
    "MyClass = type('MyClass', (), {'data': 1})\n",
    "instance = MyClass()\n",
    "print(MyClass, instance, instance.data)"
   ]
  },
  {
   "cell_type": "markdown",
   "id": "8bfbc2c1-6ddb-4c2a-a68e-3fd47da5b63e",
   "metadata": {},
   "source": [
    "## metaclass 是 type 的子类，通过替换 type 的__call__运算符重载机制，“超越变形”正常的类。"
   ]
  },
  {
   "cell_type": "code",
   "execution_count": 16,
   "id": "8af88485-ec4e-4f3d-b9bf-9521df8470a3",
   "metadata": {},
   "outputs": [
    {
     "ename": "SyntaxError",
     "evalue": "invalid syntax (570394233.py, line 1)",
     "output_type": "error",
     "traceback": [
      "\u001b[0;36m  Cell \u001b[0;32mIn[16], line 1\u001b[0;36m\u001b[0m\n\u001b[0;31m    class = type(classname, superclasses, attributedict)\u001b[0m\n\u001b[0m          ^\u001b[0m\n\u001b[0;31mSyntaxError\u001b[0m\u001b[0;31m:\u001b[0m invalid syntax\n"
     ]
    }
   ],
   "source": [
    "class = type(classname, superclasses, attributedict) \n",
    "# 变为了\n",
    "class = MyMeta(classname, superclasses, attributedict)\n"
   ]
  },
  {
   "cell_type": "markdown",
   "id": "79b9f908-d2e2-416a-b1d6-d9d72776b107",
   "metadata": {},
   "source": [
    "# 自定义metaclass"
   ]
  },
  {
   "cell_type": "code",
   "execution_count": 20,
   "id": "c7e31ee4-fdf6-44d5-9eed-12644db7243d",
   "metadata": {},
   "outputs": [
    {
     "name": "stdout",
     "output_type": "stream",
     "text": [
      "元类的__call__方法被调用\n",
      "类的__new__方法被调用\n",
      "类的__init__方法被调用\n"
     ]
    }
   ],
   "source": [
    "class MyMeta(type):\n",
    "    def __call__(cls, *args, **kwargs):\n",
    "        print(\"元类的__call__方法被调用\")\n",
    "        return super().__call__(*args, **kwargs)\n",
    "\n",
    "class MyClass(metaclass=MyMeta):\n",
    "    def __new__(cls, *args, **kwargs):\n",
    "        print(\"类的__new__方法被调用\")\n",
    "        return super().__new__(cls)\n",
    "\n",
    "    def __init__(self, name):\n",
    "        print(\"类的__init__方法被调用\")\n",
    "        self.name = name\n",
    "\n",
    "obj = MyClass(\"张三\")"
   ]
  },
  {
   "cell_type": "code",
   "execution_count": 27,
   "id": "e533bce8-a548-4081-8a55-23e291e893d8",
   "metadata": {},
   "outputs": [
    {
     "name": "stdout",
     "output_type": "stream",
     "text": [
      "创建了类：MyClass\n",
      "这是原始方法\n",
      "这是一个类属性\n"
     ]
    }
   ],
   "source": [
    "class MyMeta(type):\n",
    "    def __new__(cls, name, bases, attrs): # type实例创建前\n",
    "        # 可以在这里对类的属性进行修改或添加\n",
    "        new_attrs = {}\n",
    "        for attr_name, attr_value in attrs.items():\n",
    "            if not attr_name.startswith('__'):\n",
    "                # 将所有非特殊属性名前加上'my_'前缀\n",
    "                new_attrs[f'my_{attr_name}'] = attr_value\n",
    "            else:\n",
    "                new_attrs[attr_name] = attr_value\n",
    "        # 创建类对象\n",
    "        return super().__new__(cls, name, bases, new_attrs)\n",
    "\n",
    "    def __init__(cls, name, bases, attrs): # type实例创建后\n",
    "        super().__init__(name, bases, attrs)\n",
    "        # 可以在这里进行一些类的初始化操作，比如打印类的信息\n",
    "        print(f'创建了类：{name}')\n",
    "\n",
    "class MyClass(metaclass=MyMeta):\n",
    "    class_attr = \"这是一个类属性\"\n",
    "    def __init__(self, score, clas):\n",
    "        self.score = score\n",
    "        self.clas = clas\n",
    "    def original_method(self):\n",
    "        print('这是原始方法')\n",
    "\n",
    "# 创建MyClass的实例\n",
    "my_obj = MyClass(100, 30)\n",
    "# 调用修改后的方法\n",
    "my_obj.my_original_method()  \n",
    "print(my_obj.my_class_attr)"
   ]
  }
 ],
 "metadata": {
  "kernelspec": {
   "display_name": "Python 3 (ipykernel)",
   "language": "python",
   "name": "python3"
  },
  "language_info": {
   "codemirror_mode": {
    "name": "ipython",
    "version": 3
   },
   "file_extension": ".py",
   "mimetype": "text/x-python",
   "name": "python",
   "nbconvert_exporter": "python",
   "pygments_lexer": "ipython3",
   "version": "3.13.1"
  }
 },
 "nbformat": 4,
 "nbformat_minor": 5
}
