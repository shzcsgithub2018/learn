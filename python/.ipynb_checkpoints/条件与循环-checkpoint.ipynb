{
 "cells": [
  {
   "cell_type": "markdown",
   "id": "befa7901-33d1-4848-ab62-de2dce08dec4",
   "metadata": {},
   "source": [
    "# 条件与循环"
   ]
  },
  {
   "cell_type": "markdown",
   "id": "ab7c0f10-8ff5-48a2-8ad7-2dfa35556819",
   "metadata": {},
   "source": [
    "# 条件"
   ]
  },
  {
   "cell_type": "code",
   "execution_count": 4,
   "id": "bc04976b-2dba-48a7-8345-92f7ca45cb49",
   "metadata": {},
   "outputs": [
    {
     "name": "stdout",
     "output_type": "stream",
     "text": [
      "10\n"
     ]
    }
   ],
   "source": [
    "x = 10\n",
    "if x < 0:\n",
    "    y = -x \n",
    "else:\n",
    "    y = x\n",
    "print(x)"
   ]
  },
  {
   "cell_type": "code",
   "execution_count": 6,
   "id": "f603d5aa-a059-4372-b320-00c8b1f0fafc",
   "metadata": {},
   "outputs": [
    {
     "name": "stdin",
     "output_type": "stream",
     "text": [
      " 1\n"
     ]
    },
    {
     "name": "stdout",
     "output_type": "stream",
     "text": [
      "yellow\n"
     ]
    }
   ],
   "source": [
    "id = int(input())\n",
    "if id == 0:\n",
    "    print('red')\n",
    "elif id == 1:\n",
    "    print('yellow')\n",
    "else:\n",
    "    print('green')  \n"
   ]
  },
  {
   "cell_type": "markdown",
   "id": "62f0d14a-3a00-4eb1-a162-8d4aa5a4645c",
   "metadata": {},
   "source": [
    "<img src=\"https://static001.geekbang.org/resource/image/94/45/949742df36600c086c31e399ce515f45.png?wh=1698*653\" width=\"500\" height=\"300\">"
   ]
  },
  {
   "cell_type": "markdown",
   "id": "ecf5b2fa-a797-4ada-bc15-39f3f1eda11f",
   "metadata": {},
   "source": [
    "- 建议除过boolean 其他都限行写出来"
   ]
  },
  {
   "cell_type": "markdown",
   "id": "7729c4bb-d45e-47c5-af6d-0170e2f2bbdb",
   "metadata": {},
   "source": [
    "# 循环"
   ]
  },
  {
   "cell_type": "markdown",
   "id": "033a5d26-e3c9-40a0-8577-700cbe24cdc7",
   "metadata": {},
   "source": [
    "# 条件与循环的复用"
   ]
  },
  {
   "cell_type": "code",
   "execution_count": null,
   "id": "4e7fb8d1-28dc-4aa2-bfe5-dc5caa35b1e4",
   "metadata": {},
   "outputs": [],
   "source": [
    "expression1 if condition else expression2 for item in iterable\n",
    "\n",
    "\n",
    "等价于\n",
    "\n",
    "for item in iterable:\n",
    "    if condition:\n",
    "        expression1\n",
    "    else:\n",
    "        expression2\n"
   ]
  },
  {
   "cell_type": "code",
   "execution_count": null,
   "id": "6a466cb6-8933-42ae-b95b-3ed28d6212e3",
   "metadata": {},
   "outputs": [],
   "source": [
    "expression for item in iterable if condition\n",
    "\n",
    "等价于\n",
    "\n",
    "for item in iterable:\n",
    "    if condition:\n",
    "        expression1"
   ]
  },
  {
   "cell_type": "code",
   "execution_count": 13,
   "id": "be17f3a7-d29f-4cd2-a4c3-6eff941a9258",
   "metadata": {},
   "outputs": [
    {
     "name": "stdout",
     "output_type": "stream",
     "text": [
      "[7, 9, 11, 13, 7, 9, 11, 13, 15, 17, 19, 21]\n"
     ]
    }
   ],
   "source": [
    "x = [-1, -2, -3, -4, 1, 2, 3,4, 5,6 ,7,8]\n",
    "y = [value * 2 + 5 if value > 0 else -value * 2 + 5 for value in x]\n",
    "print(y)\n"
   ]
  },
  {
   "cell_type": "markdown",
   "id": "2d1fcc62-34b7-4ac8-9adb-c0f73d77dae4",
   "metadata": {},
   "source": [
    "# 思考题"
   ]
  },
  {
   "cell_type": "code",
   "execution_count": 34,
   "id": "f56580ed-2813-4fe3-8402-f2e60018147c",
   "metadata": {},
   "outputs": [
    {
     "name": "stdout",
     "output_type": "stream",
     "text": [
      "[{'name': 'jason', 'dob': '2000-01-01', 'gender': 'male'}, {'name': 'mike', 'dob': '1999-01-01', 'gender': 'male'}, {'name': 'nancy', 'dob': '2001-02-01', 'gender': 'female'}]\n"
     ]
    }
   ],
   "source": [
    "ttributes = ['name', 'dob', 'gender']\n",
    "values = [['jason', '2000-01-01', 'male'], \n",
    "['mike', '1999-01-01', 'male'],\n",
    "['nancy', '2001-02-01', 'female']\n",
    "]\n",
    "\n",
    "# res = [], k = {}\n",
    "# [res.append(k)  for value in values [k.clear() if len(k) == 0 else k[ttributes[idx]] = value[idx] for idx in range(0, len(ttributes))]]\n",
    "\n",
    "attributes = ['name', 'dob', 'gender']\n",
    "values = [['jason', '2000-01-01', 'male'], \n",
    "          ['mike', '1999-01-01', 'male'],\n",
    "          ['nancy', '2001-02-01', 'female']]\n",
    "\n",
    "# res = [dict(zip(attributes, value)) for value in values]\n",
    "# print(res)\n",
    "\n",
    "res = [{attributes[i]: val for i, val in enumerate(value)}for value in values]\n",
    "\n",
    "print(res)\n",
    "\n",
    "# res = []\n",
    "# for value in values:\n",
    "#     k = {}\n",
    "#     for idx in range(0, len(ttributes)):\n",
    "#         k[ttributes[idx]] = value[idx]\n",
    "#     res.append(k)\n",
    "# print(res)"
   ]
  },
  {
   "cell_type": "code",
   "execution_count": null,
   "id": "d58a6c4b-a98f-4af1-ba16-738097591b7f",
   "metadata": {},
   "outputs": [],
   "source": []
  },
  {
   "cell_type": "code",
   "execution_count": null,
   "id": "5e231140-7c15-4982-93a0-1ca64862c673",
   "metadata": {},
   "outputs": [],
   "source": []
  },
  {
   "cell_type": "code",
   "execution_count": null,
   "id": "244c9c30-a6de-4a93-96ef-66e01210f1dc",
   "metadata": {},
   "outputs": [],
   "source": []
  }
 ],
 "metadata": {
  "kernelspec": {
   "display_name": "Python 3 (ipykernel)",
   "language": "python",
   "name": "python3"
  },
  "language_info": {
   "codemirror_mode": {
    "name": "ipython",
    "version": 3
   },
   "file_extension": ".py",
   "mimetype": "text/x-python",
   "name": "python",
   "nbconvert_exporter": "python",
   "pygments_lexer": "ipython3",
   "version": "3.13.1"
  }
 },
 "nbformat": 4,
 "nbformat_minor": 5
}
