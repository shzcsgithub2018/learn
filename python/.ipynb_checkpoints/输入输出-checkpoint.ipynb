{
 "cells": [
  {
   "cell_type": "markdown",
   "id": "8e04f342-9627-4676-9e3a-8b245564cb77",
   "metadata": {},
   "source": [
    "# 输入输出基础\n"
   ]
  },
  {
   "cell_type": "code",
   "execution_count": 5,
   "id": "d578b532-188b-4194-b7d3-550263a14cc2",
   "metadata": {},
   "outputs": [
    {
     "name": "stdin",
     "output_type": "stream",
     "text": [
      "your name: Jack\n",
      "you are a boy?(y/n) y\n"
     ]
    }
   ],
   "source": [
    "name = input('your name:')\n",
    "gender = input('you are a boy?(y/n)') # 输入的类型永远是字符串型（str）"
   ]
  },
  {
   "cell_type": "code",
   "execution_count": 4,
   "id": "2f4d9585-c300-4ec8-b8d7-9018772082dd",
   "metadata": {},
   "outputs": [
    {
     "name": "stdout",
     "output_type": "stream",
     "text": [
      "authorizing...\n",
      "Welcome to the matrix Mr. Jack.\n"
     ]
    }
   ],
   "source": [
    "welcome_str = 'Welcome to the matrix {prefix} {name}.'\n",
    "welcome_dic = {\n",
    "    'prefix': 'Mr.' if gender == 'y' else 'Mrs',\n",
    "    'name': name\n",
    "}\n",
    "\n",
    "print('authorizing...')\n",
    "print(welcome_str.format(**welcome_dic))"
   ]
  },
  {
   "cell_type": "markdown",
   "id": "7820bd2d-dbc6-408d-a402-e30f328a347e",
   "metadata": {},
   "source": [
    "**输入的类型永远是字符串**"
   ]
  },
  {
   "cell_type": "code",
   "execution_count": 10,
   "id": "a9dccc62-86b1-4e26-85d3-6e9577050e01",
   "metadata": {},
   "outputs": [
    {
     "name": "stdin",
     "output_type": "stream",
     "text": [
      " 1\n",
      " 2\n"
     ]
    },
    {
     "name": "stdout",
     "output_type": "stream",
     "text": [
      "a + b = 12\n",
      "type of a is <class 'str'>, type of b is <class 'str'>\n",
      "a + b = 3\n"
     ]
    }
   ],
   "source": [
    "a = input()\n",
    "b = input()\n",
    "\n",
    "print('a + b = {}'.format(a + b))\n",
    "print('type of a is {}, type of b is {}'.format(type(a), type(b)))\n",
    "print('a + b = {}'.format(int(a) + int(b)))"
   ]
  },
  {
   "cell_type": "markdown",
   "id": "754adf74-97eb-494c-94bb-755bd32e25ab",
   "metadata": {},
   "source": [
    "# 文件输入输出"
   ]
  },
  {
   "cell_type": "markdown",
   "id": "9e7eeb1c-8cc0-43da-a176-4e254d5954ec",
   "metadata": {},
   "source": [
    "NLP 任务的基本步骤，也就是下面的四步：\n",
    "\n",
    "1. 读取文件；\n",
    "\n",
    "2. 去除所有标点符号和换行符，并把所有大写变成小写；\n",
    "\n",
    "3. 合并相同的词，统计每个词出现的频率，并按照词频从大到小排序；\n",
    "\n",
    "4. 将结果按行输出到文件 out.txt。"
   ]
  },
  {
   "cell_type": "code",
   "execution_count": 16,
   "id": "d3bb8bef-638c-43d0-bbb5-394b03a92b99",
   "metadata": {},
   "outputs": [
    {
     "name": "stdout",
     "output_type": "stream",
     "text": [
      "[('and', 15), ('be', 13), ('will', 11), ('to', 11), ('the', 10), ('of', 10), ('a', 8), ('we', 8), ('day', 6), ('able', 6), ('every', 6), ('together', 6), ('i', 5), ('have', 5), ('dream', 5), ('that', 5), ('one', 5), ('with', 5), ('this', 5), ('in', 4), ('shall', 4), ('free', 4), ('when', 4), ('little', 3), ('black', 3), ('white', 3), ('made', 3), ('faith', 3), ('at', 3), ('last', 3), ('children', 2), ('nation', 2), ('by', 2), ('their', 2), ('today', 2), ('alabama', 2), ('boys', 2), ('girls', 2), ('join', 2), ('hands', 2), ('mountain', 2), ('places', 2), ('all', 2), ('it', 2), ('our', 2), ('hope', 2), ('up', 2), ('freedom', 2), ('ring', 2), ('from', 2), ('god', 2), ('men', 2), ('my', 1), ('four', 1), ('live', 1), ('where', 1), ('they', 1), ('not', 1), ('judged', 1), ('color', 1), ('skin', 1), ('but', 1), ('content', 1), ('character', 1), ('down', 1), ('its', 1), ('vicious', 1), ('racists', 1), ('right', 1), ('there', 1), ('as', 1), ('sisters', 1), ('brothers', 1), ('valley', 1), ('exalted', 1), ('hill', 1), ('low', 1), ('rough', 1), ('plain', 1), ('crooked', 1), ('straight', 1), ('glory', 1), ('lord', 1), ('revealed', 1), ('flesh', 1), ('see', 1), ('is', 1), ('hew', 1), ('out', 1), ('despair', 1), ('stone', 1), ('transform', 1), ('jangling', 1), ('discords', 1), ('into', 1), ('beautiful', 1), ('symphony', 1), ('brotherhood', 1), ('work', 1), ('pray', 1), ('struggle', 1), ('go', 1), ('jail', 1), ('stand', 1), ('for', 1), ('knowing', 1), ('happens', 1), ('allow', 1), ('let', 1), ('village', 1), ('hamlet', 1), ('state', 1), ('city', 1), ('speed', 1), ('s', 1), ('jews', 1), ('gentiles', 1), ('protestants', 1), ('catholics', 1), ('sing', 1), ('words', 1), ('old', 1), ('negro', 1), ('spiritual', 1), ('thank', 1), ('almighty', 1), ('are', 1)]\n"
     ]
    }
   ],
   "source": [
    "import re\n",
    "\n",
    "# 你不用太关心这个函数\n",
    "def parse(text):\n",
    "    # 使用正则表达式去除标点符号和换行符\n",
    "    text = re.sub(r'[^\\w ]', ' ', text)\n",
    "\n",
    "    # 转为小写\n",
    "    text = text.lower()\n",
    "    \n",
    "    # 生成所有单词的列表\n",
    "    word_list = text.split(' ')\n",
    "    \n",
    "    # 去除空白单词\n",
    "    word_list = filter(None, word_list)\n",
    "    \n",
    "    # 生成单词和词频的字典\n",
    "    word_cnt = {}\n",
    "    for word in word_list:\n",
    "        if word not in word_cnt:\n",
    "            word_cnt[word] = 0\n",
    "        word_cnt[word] += 1\n",
    "    \n",
    "    # 按照词频排序\n",
    "    sorted_word_cnt = sorted(word_cnt.items(), key=lambda kv: kv[1], reverse=True)\n",
    "    \n",
    "    return sorted_word_cnt\n",
    "\n",
    "with open('in.txt', 'r') as fin:\n",
    "    text = fin.read()\n",
    "\n",
    "word_and_freq = parse(text)\n",
    "\n",
    "with open('out.txt', 'w') as fout: # 输出到文件\n",
    "    for word, freq in word_and_freq:\n",
    "        fout.write('{} {}\\n'.format(word, freq)) \n",
    "\n",
    "print(word_and_freq)\n"
   ]
  },
  {
   "cell_type": "markdown",
   "id": "25401b78-71d9-4292-9d00-0f59c8f9e116",
   "metadata": {},
   "source": [
    "# JSON 序列化实战"
   ]
  },
  {
   "cell_type": "code",
   "execution_count": 17,
   "id": "74fc3135-a0c4-4242-96f6-b6e315b56f10",
   "metadata": {},
   "outputs": [
    {
     "name": "stdout",
     "output_type": "stream",
     "text": [
      "after json serialization\n",
      "type of params_str = <class 'str'>, params_str = {'symbol': '123456', 'type': 'limit', 'price': 123.4, 'amount': 23}\n",
      "after json deserialization\n",
      "type of original_params = <class 'dict'>, original_params = {'symbol': '123456', 'type': 'limit', 'price': 123.4, 'amount': 23}\n"
     ]
    }
   ],
   "source": [
    "import json\n",
    "\n",
    "params = {\n",
    "    'symbol': '123456',\n",
    "    'type': 'limit',\n",
    "    'price': 123.4,\n",
    "    'amount': 23\n",
    "}\n",
    "\n",
    "params_str = json.dumps(params)\n",
    "\n",
    "print('after json serialization')\n",
    "print('type of params_str = {}, params_str = {}'.format(type(params_str), params))\n",
    "\n",
    "original_params = json.loads(params_str)\n",
    "\n",
    "print('after json deserialization')\n",
    "print('type of original_params = {}, original_params = {}'.format(type(original_params), original_params))"
   ]
  },
  {
   "cell_type": "markdown",
   "id": "da583f63-580b-4096-9cba-e47aad1b6123",
   "metadata": {},
   "source": [
    "- json.dumps() 这个函数，接受 Python 的基本数据类型，然后将其序列化为 string；\n",
    "- json.loads() 这个函数，接受一个合法字符串，然后将其反序列化为 Python 的基本数据类型。"
   ]
  },
  {
   "cell_type": "code",
   "execution_count": 18,
   "id": "f1b8ec29-c0c8-4eab-82df-23dedc1c4267",
   "metadata": {},
   "outputs": [
    {
     "name": "stdout",
     "output_type": "stream",
     "text": [
      "after json deserialization\n",
      "type of original_params = <class 'dict'>, original_params = {'symbol': '123456', 'type': 'limit', 'price': 123.4, 'amount': 23}\n"
     ]
    }
   ],
   "source": [
    "import json\n",
    "\n",
    "params = {\n",
    "    'symbol': '123456',\n",
    "    'type': 'limit',\n",
    "    'price': 123.4,\n",
    "    'amount': 23\n",
    "}\n",
    "\n",
    "with open('params.json', 'w') as fout:\n",
    "    params_str = json.dump(params, fout)\n",
    "\n",
    "with open('params.json', 'r') as fin:\n",
    "    original_params = json.load(fin)\n",
    "\n",
    "print('after json deserialization')\n",
    "print('type of original_params = {}, original_params = {}'.format(type(original_params), original_params))\n"
   ]
  },
  {
   "cell_type": "markdown",
   "id": "ab26ecc3-3717-46fd-86b2-b6b14d64135b",
   "metadata": {},
   "source": [
    "# 注意点"
   ]
  },
  {
   "cell_type": "markdown",
   "id": "c8ce1c27-1dcd-430a-afe7-153367e60083",
   "metadata": {},
   "source": [
    "I/O 操作需谨慎，一定要进行充分的错误处理，并细心编码，防止出现编码漏洞；\n",
    "\n",
    "编码时，对内存占用和磁盘占用要有充分的估计，这样在出错时可以更容易找到原因；\n",
    "\n",
    "JSON 序列化是很方便的工具，要结合实战多多练习；\n",
    "\n",
    "代码尽量简洁、清晰，哪怕是初学阶段，也要有一颗当元帅的心。"
   ]
  },
  {
   "cell_type": "markdown",
   "id": "afb35273-5bdf-4c5d-aeaf-e04adb7b0bbd",
   "metadata": {},
   "source": [
    "# 思考题"
   ]
  },
  {
   "cell_type": "code",
   "execution_count": 19,
   "id": "07fa1cb0-b902-4ff9-bb00-3f46743f20a5",
   "metadata": {},
   "outputs": [
    {
     "ename": "TypeError",
     "evalue": "expected string or bytes-like object, got 'list'",
     "output_type": "error",
     "traceback": [
      "\u001b[0;31m---------------------------------------------------------------------------\u001b[0m",
      "\u001b[0;31mTypeError\u001b[0m                                 Traceback (most recent call last)",
      "Cell \u001b[0;32mIn[19], line 32\u001b[0m\n\u001b[1;32m     30\u001b[0m \u001b[38;5;28;01mwith\u001b[39;00m \u001b[38;5;28mopen\u001b[39m(\u001b[38;5;124m'\u001b[39m\u001b[38;5;124min.txt\u001b[39m\u001b[38;5;124m'\u001b[39m, \u001b[38;5;124m'\u001b[39m\u001b[38;5;124mr\u001b[39m\u001b[38;5;124m'\u001b[39m) \u001b[38;5;28;01mas\u001b[39;00m fin:\n\u001b[1;32m     31\u001b[0m     text \u001b[38;5;241m=\u001b[39m fin\u001b[38;5;241m.\u001b[39mreadlines(\u001b[38;5;241m2\u001b[39m)\n\u001b[0;32m---> 32\u001b[0m     word_and_freq_tmp \u001b[38;5;241m=\u001b[39m \u001b[43mparse\u001b[49m\u001b[43m(\u001b[49m\u001b[43mtext\u001b[49m\u001b[43m)\u001b[49m\n\u001b[1;32m     33\u001b[0m     word_and_freq\u001b[38;5;241m.\u001b[39mupdate(word_and_freq_tmp)\n\u001b[1;32m     35\u001b[0m \u001b[38;5;28;01mwith\u001b[39;00m \u001b[38;5;28mopen\u001b[39m(\u001b[38;5;124m'\u001b[39m\u001b[38;5;124mout.txt\u001b[39m\u001b[38;5;124m'\u001b[39m, \u001b[38;5;124m'\u001b[39m\u001b[38;5;124mw\u001b[39m\u001b[38;5;124m'\u001b[39m) \u001b[38;5;28;01mas\u001b[39;00m fout: \u001b[38;5;66;03m# 输出到文件\u001b[39;00m\n",
      "Cell \u001b[0;32mIn[19], line 6\u001b[0m, in \u001b[0;36mparse\u001b[0;34m(text)\u001b[0m\n\u001b[1;32m      4\u001b[0m \u001b[38;5;28;01mdef\u001b[39;00m \u001b[38;5;21mparse\u001b[39m(text):\n\u001b[1;32m      5\u001b[0m     \u001b[38;5;66;03m# 使用正则表达式去除标点符号和换行符\u001b[39;00m\n\u001b[0;32m----> 6\u001b[0m     text \u001b[38;5;241m=\u001b[39m \u001b[43mre\u001b[49m\u001b[38;5;241;43m.\u001b[39;49m\u001b[43msub\u001b[49m\u001b[43m(\u001b[49m\u001b[38;5;124;43mr\u001b[39;49m\u001b[38;5;124;43m'\u001b[39;49m\u001b[38;5;124;43m[^\u001b[39;49m\u001b[38;5;124;43m\\\u001b[39;49m\u001b[38;5;124;43mw ]\u001b[39;49m\u001b[38;5;124;43m'\u001b[39;49m\u001b[43m,\u001b[49m\u001b[43m \u001b[49m\u001b[38;5;124;43m'\u001b[39;49m\u001b[38;5;124;43m \u001b[39;49m\u001b[38;5;124;43m'\u001b[39;49m\u001b[43m,\u001b[49m\u001b[43m \u001b[49m\u001b[43mtext\u001b[49m\u001b[43m)\u001b[49m\n\u001b[1;32m      8\u001b[0m     \u001b[38;5;66;03m# 转为小写\u001b[39;00m\n\u001b[1;32m      9\u001b[0m     text \u001b[38;5;241m=\u001b[39m text\u001b[38;5;241m.\u001b[39mlower()\n",
      "File \u001b[0;32m/opt/homebrew/Cellar/python@3.13/3.13.1/Frameworks/Python.framework/Versions/3.13/lib/python3.13/re/__init__.py:208\u001b[0m, in \u001b[0;36msub\u001b[0;34m(pattern, repl, string, count, flags, *args)\u001b[0m\n\u001b[1;32m    202\u001b[0m     \u001b[38;5;28;01mimport\u001b[39;00m \u001b[38;5;21;01mwarnings\u001b[39;00m\n\u001b[1;32m    203\u001b[0m     warnings\u001b[38;5;241m.\u001b[39mwarn(\n\u001b[1;32m    204\u001b[0m         \u001b[38;5;124m\"\u001b[39m\u001b[38;5;124m'\u001b[39m\u001b[38;5;124mcount\u001b[39m\u001b[38;5;124m'\u001b[39m\u001b[38;5;124m is passed as positional argument\u001b[39m\u001b[38;5;124m\"\u001b[39m,\n\u001b[1;32m    205\u001b[0m         \u001b[38;5;167;01mDeprecationWarning\u001b[39;00m, stacklevel\u001b[38;5;241m=\u001b[39m\u001b[38;5;241m2\u001b[39m\n\u001b[1;32m    206\u001b[0m     )\n\u001b[0;32m--> 208\u001b[0m \u001b[38;5;28;01mreturn\u001b[39;00m \u001b[43m_compile\u001b[49m\u001b[43m(\u001b[49m\u001b[43mpattern\u001b[49m\u001b[43m,\u001b[49m\u001b[43m \u001b[49m\u001b[43mflags\u001b[49m\u001b[43m)\u001b[49m\u001b[38;5;241;43m.\u001b[39;49m\u001b[43msub\u001b[49m\u001b[43m(\u001b[49m\u001b[43mrepl\u001b[49m\u001b[43m,\u001b[49m\u001b[43m \u001b[49m\u001b[43mstring\u001b[49m\u001b[43m,\u001b[49m\u001b[43m \u001b[49m\u001b[43mcount\u001b[49m\u001b[43m)\u001b[49m\n",
      "\u001b[0;31mTypeError\u001b[0m: expected string or bytes-like object, got 'list'"
     ]
    }
   ],
   "source": [
    "import re\n",
    "\n",
    "# 你不用太关心这个函数\n",
    "def parse(text):\n",
    "    # 使用正则表达式去除标点符号和换行符\n",
    "    text = re.sub(r'[^\\w ]', ' ', text)\n",
    "\n",
    "    # 转为小写\n",
    "    text = text.lower()\n",
    "    \n",
    "    # 生成所有单词的列表\n",
    "    word_list = text.split(' ')\n",
    "    \n",
    "    # 去除空白单词\n",
    "    word_list = filter(None, word_list)\n",
    "    \n",
    "    # 生成单词和词频的字典\n",
    "    word_cnt = {}\n",
    "    for word in word_list:\n",
    "        if word not in word_cnt:\n",
    "            word_cnt[word] = 0\n",
    "        word_cnt[word] += 1\n",
    "    \n",
    "    # 按照词频排序\n",
    "    sorted_word_cnt = sorted(word_cnt.items(), key=lambda kv: kv[1], reverse=True)\n",
    "    \n",
    "    return sorted_word_cnt\n",
    "\n",
    "word_and_freq = {}\n",
    "with open('in.txt', 'r') as fin:\n",
    "    lineList = fin.readlines(2)\n",
    "    for line in lineList:\n",
    "        word_and_freq_tmp = parse(line)\n",
    "        word_and_freq.update(word_and_freq_tmp)\n",
    "\n",
    "with open('out.txt', 'w') as fout: # 输出到文件\n",
    "    for word, freq in word_and_freq:\n",
    "        fout.write('{} {}\\n'.format(word, freq)) \n",
    "\n",
    "print(word_and_freq)"
   ]
  },
  {
   "cell_type": "code",
   "execution_count": null,
   "id": "68dd41ae-bfab-4bbe-afcf-3484ab4c3c97",
   "metadata": {},
   "outputs": [],
   "source": []
  }
 ],
 "metadata": {
  "kernelspec": {
   "display_name": "Python 3 (ipykernel)",
   "language": "python",
   "name": "python3"
  },
  "language_info": {
   "codemirror_mode": {
    "name": "ipython",
    "version": 3
   },
   "file_extension": ".py",
   "mimetype": "text/x-python",
   "name": "python",
   "nbconvert_exporter": "python",
   "pygments_lexer": "ipython3",
   "version": "3.13.1"
  }
 },
 "nbformat": 4,
 "nbformat_minor": 5
}
