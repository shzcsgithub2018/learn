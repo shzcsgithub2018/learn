{
 "cells": [
  {
   "cell_type": "markdown",
   "id": "f997f8c6-e60f-4643-8acf-1335e26e332e",
   "metadata": {},
   "source": [
    "# 字符串"
   ]
  },
  {
   "cell_type": "markdown",
   "id": "c01cedbe-542d-4265-8d68-7308a9c15753",
   "metadata": {},
   "source": [
    "## 字符串基础"
   ]
  },
  {
   "cell_type": "code",
   "execution_count": 6,
   "id": "edd4220e-63cf-4a66-95eb-a183d763f5a4",
   "metadata": {},
   "outputs": [
    {
     "data": {
      "text/plain": [
       "True"
      ]
     },
     "execution_count": 6,
     "metadata": {},
     "output_type": "execute_result"
    }
   ],
   "source": [
    "s1 = 'hello'\n",
    "s2 = \"hello\"\n",
    "s3 = \"\"\"hello\"\"\"\n",
    "s1 == s2 == s3"
   ]
  },
  {
   "attachments": {},
   "cell_type": "markdown",
   "id": "a2d1281e-bb33-4a01-84e5-1c3c472527f7",
   "metadata": {},
   "source": [
    "<img src=\"https://static001.geekbang.org/resource/image/b7/52/b7a296ab8d26664e03a076fa50d5b152.png?wh=1108*498\" alt=\"示例图片\" width=\"500\" height=\"300\">"
   ]
  },
  {
   "cell_type": "markdown",
   "id": "1c3eb1db-1cc0-4d47-808b-700dd09f2641",
   "metadata": {},
   "source": [
    "## 字符传常见操作"
   ]
  },
  {
   "cell_type": "markdown",
   "id": "cb221c59-1b11-401e-b54f-0db74b443889",
   "metadata": {},
   "source": [
    "### 遍历"
   ]
  },
  {
   "cell_type": "code",
   "execution_count": 8,
   "id": "21e41a3f-86fc-40fe-9e5b-126cfbbbeb38",
   "metadata": {},
   "outputs": [
    {
     "name": "stdout",
     "output_type": "stream",
     "text": [
      "s\n",
      "d\n",
      "a\n",
      "f\n",
      "j\n",
      "a\n",
      "s\n",
      "f\n",
      "s\n",
      "f\n"
     ]
    }
   ],
   "source": [
    "name = \"sdafjasfsf\"\n",
    "for char in name:\n",
    "    print(char)\n"
   ]
  },
  {
   "cell_type": "markdown",
   "id": "f4dcc82d-19ec-4255-8eef-dd89bb96e8fc",
   "metadata": {},
   "source": [
    "### 字符串不可变"
   ]
  },
  {
   "cell_type": "code",
   "execution_count": 9,
   "id": "d9693c74-8813-4532-a083-daaa90bff204",
   "metadata": {},
   "outputs": [
    {
     "ename": "TypeError",
     "evalue": "'str' object does not support item assignment",
     "output_type": "error",
     "traceback": [
      "\u001b[0;31m---------------------------------------------------------------------------\u001b[0m",
      "\u001b[0;31mTypeError\u001b[0m                                 Traceback (most recent call last)",
      "Cell \u001b[0;32mIn[9], line 2\u001b[0m\n\u001b[1;32m      1\u001b[0m s \u001b[38;5;241m=\u001b[39m \u001b[38;5;124m'\u001b[39m\u001b[38;5;124mhello\u001b[39m\u001b[38;5;124m'\u001b[39m\n\u001b[0;32m----> 2\u001b[0m \u001b[43ms\u001b[49m\u001b[43m[\u001b[49m\u001b[38;5;241;43m0\u001b[39;49m\u001b[43m]\u001b[49m \u001b[38;5;241m=\u001b[39m \u001b[38;5;124m'\u001b[39m\u001b[38;5;124mH\u001b[39m\u001b[38;5;124m'\u001b[39m\n",
      "\u001b[0;31mTypeError\u001b[0m: 'str' object does not support item assignment"
     ]
    }
   ],
   "source": [
    "s = 'hello'\n",
    "s[0] = 'H'"
   ]
  },
  {
   "cell_type": "code",
   "execution_count": 13,
   "id": "387ea2f4-c800-4f9f-af66-fda74e0c06c1",
   "metadata": {},
   "outputs": [
    {
     "name": "stdout",
     "output_type": "stream",
     "text": [
      "Hello\n",
      "Hello\n"
     ]
    }
   ],
   "source": [
    "s = 'H' + s[1:]\n",
    "print(s)\n",
    "s = s.replace('h', 'H')\n",
    "print(s)"
   ]
  },
  {
   "cell_type": "markdown",
   "id": "b727de3d-3e93-447d-b044-7013e816dcca",
   "metadata": {},
   "source": [
    "### 字符串拼接"
   ]
  },
  {
   "cell_type": "code",
   "execution_count": 18,
   "id": "df2abe7b-0bfa-4fc9-b97e-99ba378de098",
   "metadata": {},
   "outputs": [
    {
     "name": "stdout",
     "output_type": "stream",
     "text": [
      "0123456789101112131415161718192021222324252627282930313233343536373839404142434445464748495051525354555657585960616263646566676869707172737475767778798081828384858687888990919293949596979899\n"
     ]
    }
   ],
   "source": [
    "s = ''\n",
    "for n in range(0, 100):\n",
    "    s += str(n) # 没有其他引用原地扩充，时间复杂度O(n)  字符串不可变例外\n",
    "print(s)"
   ]
  },
  {
   "cell_type": "code",
   "execution_count": 24,
   "id": "538e73f9-7e96-4761-a7a3-b12bf47a3dcc",
   "metadata": {},
   "outputs": [
    {
     "name": "stdout",
     "output_type": "stream",
     "text": [
      "0 1 2 3 4 5 6 7 8 9 10 11 12 13 14 15 16 17 18 19 20 21 22 23 24 25 26 27 28 29 30 31 32 33 34 35 36 37 38 39 40 41 42 43 44 45 46 47 48 49 50 51 52 53 54 55 56 57 58 59 60 61 62 63 64 65 66 67 68 69 70 71 72 73 74 75 76 77 78 79 80 81 82 83 84 85 86 87 88 89 90 91 92 93 94 95 96 97 98 99\n"
     ]
    }
   ],
   "source": [
    "l = []\n",
    "for n in range(0, 100):\n",
    "    l.append(str(n))\n",
    "l = ' '.join(l) \n",
    "print(l)"
   ]
  },
  {
   "cell_type": "markdown",
   "id": "78f251d9-ec37-4504-90ce-89f6168aeccb",
   "metadata": {},
   "source": [
    "### 字符串分割"
   ]
  },
  {
   "cell_type": "code",
   "execution_count": 33,
   "id": "1039ba51-0274-4598-b893-f690de4e4486",
   "metadata": {},
   "outputs": [
    {
     "name": "stdout",
     "output_type": "stream",
     "text": [
      "ads/training_table ads training_table\n"
     ]
    }
   ],
   "source": [
    "path = 'hive://ads/training_table'\n",
    "namespace = path.split('//')[1].split('/')[0] # 返回'ads'\n",
    "table = path.split('//')[1].split('/')[1] # 返回 'training_table'\n",
    "print(path.split('//')[1], namespace, table)"
   ]
  },
  {
   "cell_type": "markdown",
   "id": "e278f1a6-e7b3-4df1-b8b8-6a8fa4d1105b",
   "metadata": {},
   "source": [
    "### 字符串格式化"
   ]
  },
  {
   "cell_type": "code",
   "execution_count": 36,
   "id": "afef13f3-f42a-4ebc-9850-6298f4ff8cbf",
   "metadata": {},
   "outputs": [
    {
     "name": "stdout",
     "output_type": "stream",
     "text": [
      "no data available for person with id: 12, name: fdasfasfas\n"
     ]
    }
   ],
   "source": [
    "print('no data available for person with id: {}, name: {}'.format(12, \"fdasfasfas\"))"
   ]
  },
  {
   "cell_type": "code",
   "execution_count": null,
   "id": "1795982e-b94c-49c0-85de-7a6c2f23cc9a",
   "metadata": {},
   "outputs": [],
   "source": []
  }
 ],
 "metadata": {
  "kernelspec": {
   "display_name": "Python 3 (ipykernel)",
   "language": "python",
   "name": "python3"
  },
  "language_info": {
   "codemirror_mode": {
    "name": "ipython",
    "version": 3
   },
   "file_extension": ".py",
   "mimetype": "text/x-python",
   "name": "python",
   "nbconvert_exporter": "python",
   "pygments_lexer": "ipython3",
   "version": "3.13.1"
  }
 },
 "nbformat": 4,
 "nbformat_minor": 5
}
