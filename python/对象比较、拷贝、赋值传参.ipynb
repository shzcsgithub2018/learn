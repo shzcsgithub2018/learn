{
 "cells": [
  {
   "cell_type": "markdown",
   "id": "dd7091ef-b0ff-4150-8c0b-80817000506f",
   "metadata": {},
   "source": [
    "# Python 对象的比较、拷贝"
   ]
  },
  {
   "cell_type": "markdown",
   "id": "03ffa05d-4151-49f8-b105-a319dacc09e4",
   "metadata": {},
   "source": [
    "## 比较 \"==\" VS \"is\""
   ]
  },
  {
   "cell_type": "markdown",
   "id": "4d802e8e-044c-4b6a-8526-ff34a94f1527",
   "metadata": {},
   "source": [
    "- '=='操作符比较对象之间的值是否相等，比如下面的例子，表示比较变量 a 和 b 所指向的值是否相等\n",
    "- 'is'操作符比较的是对象的身份标识是否相等，即它们是否是同一个对象，是否指向同一个内存地址。"
   ]
  },
  {
   "cell_type": "code",
   "execution_count": 5,
   "id": "438e3f2e-2add-47e2-8ecc-b0a3c7cd247a",
   "metadata": {},
   "outputs": [
    {
     "name": "stdout",
     "output_type": "stream",
     "text": [
      "True\n",
      "4390576576 4390576576 True\n",
      "4835259312 4835259696 False\n",
      "4835259472 4835259472 True\n"
     ]
    }
   ],
   "source": [
    "# -5 到 256 的整数 a is b 为 true  类似java\n",
    "\n",
    "a = 10\n",
    "b = 10\n",
    "\n",
    "print(a == b)\n",
    "print(id(a), id(b), a is b)\n",
    "\n",
    "c = 257\n",
    "d = 257\n",
    "print(id(c), id(d), c is d)\n",
    "\n",
    "\n",
    "c = d = 257 # 这样子赋值指向同一个地址\n",
    "print(id(c), id(d), c is d)"
   ]
  },
  {
   "cell_type": "code",
   "execution_count": 6,
   "id": "45d8075c-aa08-4079-a392-44a4534a4afd",
   "metadata": {},
   "outputs": [
    {
     "name": "stdout",
     "output_type": "stream",
     "text": [
      "True False\n",
      "False False\n"
     ]
    }
   ],
   "source": [
    "t1 = (1, 2, [3, 4])\n",
    "t2 = (1, 2, [3, 4])\n",
    "print(t1 == t2, t1 is t2)\n",
    "\n",
    "t1[-1].append(5)\n",
    "print(t1 == t2, t1 is t2)"
   ]
  },
  {
   "cell_type": "markdown",
   "id": "632c5c36-6dac-48f2-aa34-9cda46e9734a",
   "metadata": {},
   "source": [
    "## 拷贝"
   ]
  },
  {
   "cell_type": "markdown",
   "id": "07f918a8-bb32-4430-9d5a-651b9283fda8",
   "metadata": {},
   "source": [
    "### 浅拷贝"
   ]
  },
  {
   "cell_type": "markdown",
   "id": "220df487-b315-474a-a435-9d443f1095df",
   "metadata": {},
   "source": [
    "浅拷贝，是指重新分配一块内存，创建一个新的对象，里面的元素是原对象中子对象的引用。"
   ]
  },
  {
   "cell_type": "code",
   "execution_count": 7,
   "id": "992cba96-fa0f-46d0-8d72-169e5baf8634",
   "metadata": {},
   "outputs": [
    {
     "name": "stdout",
     "output_type": "stream",
     "text": [
      "True False\n",
      "True False\n",
      "True False\n",
      "True False\n",
      "True True\n"
     ]
    }
   ],
   "source": [
    "# 原对象子对象不可变\n",
    "import copy\n",
    "\n",
    "l1 = [1, 2, 3]\n",
    "l2 = list(l1)\n",
    "print(l1 == l2, l1 is l2)\n",
    "\n",
    "l1 = [1, 2, 3]\n",
    "l2 = l1[:]\n",
    "print(l1 == l2, l1 is l2)\n",
    "\n",
    "l1 = [1, 2, 3]\n",
    "l2 = copy.copy(l1)\n",
    "print(l1 == l2, l1 is l2)\n",
    "\n",
    "s1 = set([1, 2, 3])\n",
    "s2 = set(s1)\n",
    "print(s1 == s2, s1 is s2)\n",
    "\n",
    "t1 = (1, 2, 3)\n",
    "t2 = tuple(t1) # 组 (1, 2, 3) 只被创建一次，t1 和 t2 同时指向这个元组\n",
    "print(t1 == t2, t1 is t2)\n"
   ]
  },
  {
   "cell_type": "code",
   "execution_count": 10,
   "id": "c474a2bb-91d7-41f9-8625-1ec5aec9a21d",
   "metadata": {},
   "outputs": [
    {
     "name": "stdout",
     "output_type": "stream",
     "text": [
      "[[1, 2], (30, 40)] [[1, 2], (30, 40)]\n",
      "[[1, 2, 3], (30, 40), 100] [[1, 2, 3], (30, 40)]\n",
      "[[1, 2, 3], (30, 40, 50, 60), 100] [[1, 2, 3], (30, 40)]\n"
     ]
    }
   ],
   "source": [
    "# 原对象子对象可变，会有副作用\n",
    "l1 = [[1, 2], (30, 40)]\n",
    "l2 = list(l1)\n",
    "print(l1, l2)\n",
    "\n",
    "l1.append(100)\n",
    "l1[0].append(3)\n",
    "print(l1, l2)\n",
    "\n",
    "l1[1] += (50, 60)\n",
    "print(l1, l2)\n"
   ]
  },
  {
   "cell_type": "markdown",
   "id": "9428dbd3-4c45-4754-a42e-c81cb25fb9a2",
   "metadata": {},
   "source": [
    "### 深度拷贝"
   ]
  },
  {
   "cell_type": "markdown",
   "id": "a5a58591-6f9c-4ef0-b2f4-8aaa051b1472",
   "metadata": {},
   "source": [
    "深度拷贝，是指重新分配一块内存，创建一个新的对象，并且将原对象中的元素，以递归的方式，通过创建新的子对象拷贝到新对象中。因此，新对象和原对象没有任何关联。"
   ]
  },
  {
   "cell_type": "code",
   "execution_count": 11,
   "id": "77d8e3d7-c7b8-4757-b42f-6906fcaa8b60",
   "metadata": {},
   "outputs": [
    {
     "name": "stdout",
     "output_type": "stream",
     "text": [
      "[[1, 2], (30, 40)] [[1, 2], (30, 40)]\n",
      "[[1, 2, 3], (30, 40), 100] [[1, 2], (30, 40)]\n"
     ]
    }
   ],
   "source": [
    "import copy\n",
    "l1 = [[1, 2], (30, 40)]\n",
    "l2 = copy.deepcopy(l1) # 使用 deepcopy\n",
    "print(l1, l2)\n",
    "\n",
    "l1.append(100)\n",
    "l1[0].append(3)\n",
    "print(l1, l2)"
   ]
  },
  {
   "cell_type": "markdown",
   "id": "28a0d473-edcc-401c-b454-7afb3f528b68",
   "metadata": {},
   "source": [
    "深度拷贝的问题， 这块解释好像不是很清楚"
   ]
  },
  {
   "cell_type": "code",
   "execution_count": 17,
   "id": "b2b03950-9745-43ba-87d6-462cdd6063d1",
   "metadata": {},
   "outputs": [
    {
     "name": "stdout",
     "output_type": "stream",
     "text": [
      "[1, [...]]\n",
      "[1, [...]]\n"
     ]
    },
    {
     "ename": "RecursionError",
     "evalue": "maximum recursion depth exceeded in comparison",
     "output_type": "error",
     "traceback": [
      "\u001b[0;31m---------------------------------------------------------------------------\u001b[0m",
      "\u001b[0;31mRecursionError\u001b[0m                            Traceback (most recent call last)",
      "Cell \u001b[0;32mIn[17], line 9\u001b[0m\n\u001b[1;32m      6\u001b[0m y \u001b[38;5;241m=\u001b[39m copy\u001b[38;5;241m.\u001b[39mdeepcopy(x)\n\u001b[1;32m      7\u001b[0m \u001b[38;5;28mprint\u001b[39m(y)\n\u001b[0;32m----> 9\u001b[0m \u001b[38;5;28mprint\u001b[39m(\u001b[43mx\u001b[49m\u001b[43m \u001b[49m\u001b[38;5;241;43m==\u001b[39;49m\u001b[43m \u001b[49m\u001b[43my\u001b[49m, x \u001b[38;5;129;01mis\u001b[39;00m y)\n",
      "\u001b[0;31mRecursionError\u001b[0m: maximum recursion depth exceeded in comparison"
     ]
    }
   ],
   "source": [
    "import copy\n",
    "x = [1]\n",
    "x.append(x)\n",
    "print(x)\n",
    "\n",
    "y = copy.deepcopy(x)\n",
    "print(y)\n",
    "\n",
    "print(x == y, x is y)"
   ]
  },
  {
   "cell_type": "markdown",
   "id": "57806841-4b92-46e3-85f1-6be5732e4f08",
   "metadata": {},
   "source": [
    "# 值传递、引用传递、其他"
   ]
  },
  {
   "cell_type": "markdown",
   "id": "af5995fa-c5c7-4947-aa05-ef1fdff08b66",
   "metadata": {},
   "source": [
    "## python 变量及其赋值基本原理"
   ]
  },
  {
   "cell_type": "markdown",
   "id": "ad33d451-b770-4a4e-bda8-7d3a6fdaf917",
   "metadata": {},
   "source": [
    "- 变量的赋值，只是表示让变量指向了某个对象，并不表示拷贝对象给变量；而一个对象，可以被多个变量所指向。\n",
    "\n",
    "- 可变对象（列表，字典，集合等等）的改变，会影响所有指向该对象的变量。\n",
    "\n",
    "- 对于不可变对象（字符串、整型、元组等等），所有指向该对象的变量的值总是一样的，也不会改变。但是通过某些操作（+= 等等）更新不可变对象的值时，会返回一个新的对象。\n",
    "\n",
    "- 变量可以被删除，但是对象无法被删除。"
   ]
  },
  {
   "cell_type": "markdown",
   "id": "c476f9d2-dc7e-41ac-aab5-04a3e9574b8d",
   "metadata": {},
   "source": [
    "## Python 函数的参数传递"
   ]
  },
  {
   "cell_type": "markdown",
   "id": "4f4c1323-d77a-42af-b81e-7016ec587f9c",
   "metadata": {},
   "source": [
    "准确地说，Python 的参数传递是赋值传递 （pass by assignment），或者叫作对象的引用传递（pass by object reference）。Python 里所有的数据类型都是对象，所以参数传递时，只是让新变量与原变量指向相同的对象而已，并不存在值传递或是引用传递一说。"
   ]
  },
  {
   "cell_type": "markdown",
   "id": "5d92c47b-4df0-4d47-8cd4-35eb3c4dfef2",
   "metadata": {},
   "source": [
    "尤其要记住的是，改变变量和重新赋值的区别：\n",
    "- my_func3() 中单纯地改变了对象的值，因此函数返回后，所有指向该对象的变量都会被改变；\n",
    "\n",
    "- 但 my_func4() 中则创建了新的对象，并赋值给一个本地变量，因此原变量仍然不变。"
   ]
  },
  {
   "cell_type": "code",
   "execution_count": 31,
   "id": "69575e21-70b1-4f82-b090-fda8af52892d",
   "metadata": {},
   "outputs": [
    {
     "name": "stdout",
     "output_type": "stream",
     "text": [
      "72\n",
      "168\n",
      "[1, 2, 3, 4, 5, 6, 4, 5, 6, 4, 5]\n"
     ]
    }
   ],
   "source": [
    "def my_func3(l2): # 不会有类似 golang 的问题\n",
    "  l2.append(4)\n",
    "  l2.append(5)\n",
    "  l2.append(6)\n",
    "  l2.append(4)\n",
    "  l2.append(5)\n",
    "  l2.append(6)\n",
    "  l2.append(4)\n",
    "  l2.append(5)\n",
    "\n",
    "l1 = [1, 2, 3]\n",
    "print(l1.__sizeof__())\n",
    "my_func3(l1)\n",
    "print(l1.__sizeof__())\n",
    "print(l1)"
   ]
  },
  {
   "cell_type": "code",
   "execution_count": 33,
   "id": "d42c4b92-88d8-4ee4-bc61-aebe0d07fbff",
   "metadata": {},
   "outputs": [
    {
     "data": {
      "text/plain": [
       "[1, 2, 3]"
      ]
     },
     "execution_count": 33,
     "metadata": {},
     "output_type": "execute_result"
    }
   ],
   "source": [
    "def my_func4(l2):\n",
    "  l2 = l2 + [4] # 创建了新的对象 l2 指向了新的对象\n",
    "\n",
    "l1 = [1, 2, 3]\n",
    "my_func4(l1)\n",
    "l1\n",
    "[1, 2, 3]"
   ]
  },
  {
   "cell_type": "markdown",
   "id": "ad04f748-83a3-4151-93a7-678963550ed7",
   "metadata": {},
   "source": [
    "## 思考题"
   ]
  },
  {
   "cell_type": "code",
   "execution_count": 36,
   "id": "d1917725-36c1-46d1-94ad-e45986e5586f",
   "metadata": {},
   "outputs": [
    {
     "name": "stdout",
     "output_type": "stream",
     "text": [
      "{'a': 10, 'b': 20}\n"
     ]
    }
   ],
   "source": [
    "def func(d):\n",
    "   d['a'] = 10\n",
    "   d['b'] = 20\n",
    "\n",
    "d = {'a': 1, 'b': 2}\n",
    "func(d)\n",
    "print(d)"
   ]
  },
  {
   "cell_type": "code",
   "execution_count": 38,
   "id": "05c1adec-699b-4d00-a0d1-57d9132288b2",
   "metadata": {},
   "outputs": [
    {
     "name": "stdout",
     "output_type": "stream",
     "text": [
      "True True False True\n"
     ]
    }
   ],
   "source": [
    "l1 = [1, 2, 3]\n",
    "l2 = [1, 2, 3]\n",
    "l3 = l2\n",
    "print(l1 == l2, l2 == l3, l1 is l2, l2 is l3)"
   ]
  },
  {
   "cell_type": "code",
   "execution_count": null,
   "id": "4581cbd4-5105-4a8c-a695-643923d8cc24",
   "metadata": {},
   "outputs": [],
   "source": []
  }
 ],
 "metadata": {
  "kernelspec": {
   "display_name": "Python 3 (ipykernel)",
   "language": "python",
   "name": "python3"
  },
  "language_info": {
   "codemirror_mode": {
    "name": "ipython",
    "version": 3
   },
   "file_extension": ".py",
   "mimetype": "text/x-python",
   "name": "python",
   "nbconvert_exporter": "python",
   "pygments_lexer": "ipython3",
   "version": "3.13.1"
  }
 },
 "nbformat": 4,
 "nbformat_minor": 5
}
